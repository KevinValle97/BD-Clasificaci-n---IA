{
  "nbformat": 4,
  "nbformat_minor": 0,
  "metadata": {
    "colab": {
      "provenance": []
    },
    "kernelspec": {
      "name": "python3",
      "display_name": "Python 3"
    },
    "language_info": {
      "name": "python"
    }
  },
  "cells": [
    {
      "cell_type": "markdown",
      "source": [
        "#MODELO DE CLASIFICACION - KEVIN VALLE"
      ],
      "metadata": {
        "id": "wMXsJCQ2zxO8"
      }
    },
    {
      "cell_type": "code",
      "execution_count": 57,
      "metadata": {
        "id": "ubsayNuzj9Po"
      },
      "outputs": [],
      "source": [
        "import pandas as pd\n",
        "import seaborn as sns\n",
        "import matplotlib.pyplot as plt\n",
        "import missingno as msno#Graficar para  valores nulos\n",
        "from sklearn.preprocessing import  LabelEncoder, MinMaxScaler\n",
        "from sklearn.model_selection import train_test_split\n",
        "from sklearn.impute import SimpleImputer\n",
        "from imblearn.over_sampling import RandomOverSampler, SMOTE\n",
        "from imblearn.under_sampling import RandomUnderSampler\n",
        "from keras.models import Sequential\n",
        "from keras.layers import Dense\n",
        "from sklearn.metrics import classification_report, confusion_matrix"
      ]
    },
    {
      "cell_type": "code",
      "source": [
        "df = pd.read_csv(\"Bengaluru_House_Data.csv\")"
      ],
      "metadata": {
        "id": "zNWpOm6KkTKL"
      },
      "execution_count": 58,
      "outputs": []
    },
    {
      "cell_type": "code",
      "source": [
        "df.info()"
      ],
      "metadata": {
        "colab": {
          "base_uri": "https://localhost:8080/"
        },
        "id": "pXlHlIK8lhyv",
        "outputId": "6aa5a063-65b8-4584-9032-f296fe58e32a"
      },
      "execution_count": 59,
      "outputs": [
        {
          "output_type": "stream",
          "name": "stdout",
          "text": [
            "<class 'pandas.core.frame.DataFrame'>\n",
            "RangeIndex: 13320 entries, 0 to 13319\n",
            "Data columns (total 9 columns):\n",
            " #   Column        Non-Null Count  Dtype  \n",
            "---  ------        --------------  -----  \n",
            " 0   area_type     13320 non-null  object \n",
            " 1   availability  13240 non-null  object \n",
            " 2   location      13239 non-null  object \n",
            " 3   size          13224 non-null  object \n",
            " 4   society       7818 non-null   object \n",
            " 5   total_sqft    13240 non-null  object \n",
            " 6   bath          13167 non-null  float64\n",
            " 7   balcony       12635 non-null  float64\n",
            " 8   price         13240 non-null  float64\n",
            "dtypes: float64(3), object(6)\n",
            "memory usage: 936.7+ KB\n"
          ]
        }
      ]
    },
    {
      "cell_type": "code",
      "source": [
        "df.describe().transpose()"
      ],
      "metadata": {
        "colab": {
          "base_uri": "https://localhost:8080/",
          "height": 143
        },
        "id": "9ca08oQckszc",
        "outputId": "a83f0f81-cdca-4a2a-8362-5f5e31eb2782"
      },
      "execution_count": 60,
      "outputs": [
        {
          "output_type": "execute_result",
          "data": {
            "text/plain": [
              "           count        mean         std  min   25%   50%    75%     max\n",
              "bath     13167.0    2.691501    1.343284  1.0   2.0   2.0    3.0    40.0\n",
              "balcony  12635.0    1.583854    0.817913  0.0   1.0   2.0    2.0     3.0\n",
              "price    13240.0  112.493455  149.206816  8.0  50.0  72.0  120.0  3600.0"
            ],
            "text/html": [
              "\n",
              "  <div id=\"df-d256f70e-322a-4d6b-b45a-049b4cd1a7c8\">\n",
              "    <div class=\"colab-df-container\">\n",
              "      <div>\n",
              "<style scoped>\n",
              "    .dataframe tbody tr th:only-of-type {\n",
              "        vertical-align: middle;\n",
              "    }\n",
              "\n",
              "    .dataframe tbody tr th {\n",
              "        vertical-align: top;\n",
              "    }\n",
              "\n",
              "    .dataframe thead th {\n",
              "        text-align: right;\n",
              "    }\n",
              "</style>\n",
              "<table border=\"1\" class=\"dataframe\">\n",
              "  <thead>\n",
              "    <tr style=\"text-align: right;\">\n",
              "      <th></th>\n",
              "      <th>count</th>\n",
              "      <th>mean</th>\n",
              "      <th>std</th>\n",
              "      <th>min</th>\n",
              "      <th>25%</th>\n",
              "      <th>50%</th>\n",
              "      <th>75%</th>\n",
              "      <th>max</th>\n",
              "    </tr>\n",
              "  </thead>\n",
              "  <tbody>\n",
              "    <tr>\n",
              "      <th>bath</th>\n",
              "      <td>13167.0</td>\n",
              "      <td>2.691501</td>\n",
              "      <td>1.343284</td>\n",
              "      <td>1.0</td>\n",
              "      <td>2.0</td>\n",
              "      <td>2.0</td>\n",
              "      <td>3.0</td>\n",
              "      <td>40.0</td>\n",
              "    </tr>\n",
              "    <tr>\n",
              "      <th>balcony</th>\n",
              "      <td>12635.0</td>\n",
              "      <td>1.583854</td>\n",
              "      <td>0.817913</td>\n",
              "      <td>0.0</td>\n",
              "      <td>1.0</td>\n",
              "      <td>2.0</td>\n",
              "      <td>2.0</td>\n",
              "      <td>3.0</td>\n",
              "    </tr>\n",
              "    <tr>\n",
              "      <th>price</th>\n",
              "      <td>13240.0</td>\n",
              "      <td>112.493455</td>\n",
              "      <td>149.206816</td>\n",
              "      <td>8.0</td>\n",
              "      <td>50.0</td>\n",
              "      <td>72.0</td>\n",
              "      <td>120.0</td>\n",
              "      <td>3600.0</td>\n",
              "    </tr>\n",
              "  </tbody>\n",
              "</table>\n",
              "</div>\n",
              "      <button class=\"colab-df-convert\" onclick=\"convertToInteractive('df-d256f70e-322a-4d6b-b45a-049b4cd1a7c8')\"\n",
              "              title=\"Convert this dataframe to an interactive table.\"\n",
              "              style=\"display:none;\">\n",
              "        \n",
              "  <svg xmlns=\"http://www.w3.org/2000/svg\" height=\"24px\"viewBox=\"0 0 24 24\"\n",
              "       width=\"24px\">\n",
              "    <path d=\"M0 0h24v24H0V0z\" fill=\"none\"/>\n",
              "    <path d=\"M18.56 5.44l.94 2.06.94-2.06 2.06-.94-2.06-.94-.94-2.06-.94 2.06-2.06.94zm-11 1L8.5 8.5l.94-2.06 2.06-.94-2.06-.94L8.5 2.5l-.94 2.06-2.06.94zm10 10l.94 2.06.94-2.06 2.06-.94-2.06-.94-.94-2.06-.94 2.06-2.06.94z\"/><path d=\"M17.41 7.96l-1.37-1.37c-.4-.4-.92-.59-1.43-.59-.52 0-1.04.2-1.43.59L10.3 9.45l-7.72 7.72c-.78.78-.78 2.05 0 2.83L4 21.41c.39.39.9.59 1.41.59.51 0 1.02-.2 1.41-.59l7.78-7.78 2.81-2.81c.8-.78.8-2.07 0-2.86zM5.41 20L4 18.59l7.72-7.72 1.47 1.35L5.41 20z\"/>\n",
              "  </svg>\n",
              "      </button>\n",
              "      \n",
              "  <style>\n",
              "    .colab-df-container {\n",
              "      display:flex;\n",
              "      flex-wrap:wrap;\n",
              "      gap: 12px;\n",
              "    }\n",
              "\n",
              "    .colab-df-convert {\n",
              "      background-color: #E8F0FE;\n",
              "      border: none;\n",
              "      border-radius: 50%;\n",
              "      cursor: pointer;\n",
              "      display: none;\n",
              "      fill: #1967D2;\n",
              "      height: 32px;\n",
              "      padding: 0 0 0 0;\n",
              "      width: 32px;\n",
              "    }\n",
              "\n",
              "    .colab-df-convert:hover {\n",
              "      background-color: #E2EBFA;\n",
              "      box-shadow: 0px 1px 2px rgba(60, 64, 67, 0.3), 0px 1px 3px 1px rgba(60, 64, 67, 0.15);\n",
              "      fill: #174EA6;\n",
              "    }\n",
              "\n",
              "    [theme=dark] .colab-df-convert {\n",
              "      background-color: #3B4455;\n",
              "      fill: #D2E3FC;\n",
              "    }\n",
              "\n",
              "    [theme=dark] .colab-df-convert:hover {\n",
              "      background-color: #434B5C;\n",
              "      box-shadow: 0px 1px 3px 1px rgba(0, 0, 0, 0.15);\n",
              "      filter: drop-shadow(0px 1px 2px rgba(0, 0, 0, 0.3));\n",
              "      fill: #FFFFFF;\n",
              "    }\n",
              "  </style>\n",
              "\n",
              "      <script>\n",
              "        const buttonEl =\n",
              "          document.querySelector('#df-d256f70e-322a-4d6b-b45a-049b4cd1a7c8 button.colab-df-convert');\n",
              "        buttonEl.style.display =\n",
              "          google.colab.kernel.accessAllowed ? 'block' : 'none';\n",
              "\n",
              "        async function convertToInteractive(key) {\n",
              "          const element = document.querySelector('#df-d256f70e-322a-4d6b-b45a-049b4cd1a7c8');\n",
              "          const dataTable =\n",
              "            await google.colab.kernel.invokeFunction('convertToInteractive',\n",
              "                                                     [key], {});\n",
              "          if (!dataTable) return;\n",
              "\n",
              "          const docLinkHtml = 'Like what you see? Visit the ' +\n",
              "            '<a target=\"_blank\" href=https://colab.research.google.com/notebooks/data_table.ipynb>data table notebook</a>'\n",
              "            + ' to learn more about interactive tables.';\n",
              "          element.innerHTML = '';\n",
              "          dataTable['output_type'] = 'display_data';\n",
              "          await google.colab.output.renderOutput(dataTable, element);\n",
              "          const docLink = document.createElement('div');\n",
              "          docLink.innerHTML = docLinkHtml;\n",
              "          element.appendChild(docLink);\n",
              "        }\n",
              "      </script>\n",
              "    </div>\n",
              "  </div>\n",
              "  "
            ]
          },
          "metadata": {},
          "execution_count": 60
        }
      ]
    },
    {
      "cell_type": "code",
      "source": [
        "df['total_sqft']= pd.to_numeric(df['total_sqft'],errors='coerce')"
      ],
      "metadata": {
        "id": "lLpP3bJelCMF"
      },
      "execution_count": 61,
      "outputs": []
    },
    {
      "cell_type": "code",
      "source": [
        "df.info()"
      ],
      "metadata": {
        "colab": {
          "base_uri": "https://localhost:8080/"
        },
        "id": "S8LjRc14okww",
        "outputId": "7adacf39-fdb1-494c-d163-e6a066262c90"
      },
      "execution_count": 62,
      "outputs": [
        {
          "output_type": "stream",
          "name": "stdout",
          "text": [
            "<class 'pandas.core.frame.DataFrame'>\n",
            "RangeIndex: 13320 entries, 0 to 13319\n",
            "Data columns (total 9 columns):\n",
            " #   Column        Non-Null Count  Dtype  \n",
            "---  ------        --------------  -----  \n",
            " 0   area_type     13320 non-null  object \n",
            " 1   availability  13240 non-null  object \n",
            " 2   location      13239 non-null  object \n",
            " 3   size          13224 non-null  object \n",
            " 4   society       7818 non-null   object \n",
            " 5   total_sqft    12993 non-null  float64\n",
            " 6   bath          13167 non-null  float64\n",
            " 7   balcony       12635 non-null  float64\n",
            " 8   price         13240 non-null  float64\n",
            "dtypes: float64(4), object(5)\n",
            "memory usage: 936.7+ KB\n"
          ]
        }
      ]
    },
    {
      "cell_type": "code",
      "source": [
        "le = LabelEncoder()"
      ],
      "metadata": {
        "id": "QLnZcL_CorQB"
      },
      "execution_count": 63,
      "outputs": []
    },
    {
      "cell_type": "code",
      "source": [
        "size = df['size'].str.split(expand=True)\n",
        "size.columns = ['val_size','val_cat']\n",
        "df = pd.concat([df, size], axis=1)\n",
        "df['val_cat'] = le.fit_transform(df['val_cat'])\n",
        "df = df.drop('size',axis=1)\n"
      ],
      "metadata": {
        "id": "V0X9F1Sdprkv"
      },
      "execution_count": 64,
      "outputs": []
    },
    {
      "cell_type": "code",
      "source": [
        "df.info()"
      ],
      "metadata": {
        "colab": {
          "base_uri": "https://localhost:8080/"
        },
        "id": "IYbQ0w4tqowA",
        "outputId": "8d046217-9009-415e-ca19-4f85c7f039c6"
      },
      "execution_count": 65,
      "outputs": [
        {
          "output_type": "stream",
          "name": "stdout",
          "text": [
            "<class 'pandas.core.frame.DataFrame'>\n",
            "RangeIndex: 13320 entries, 0 to 13319\n",
            "Data columns (total 10 columns):\n",
            " #   Column        Non-Null Count  Dtype  \n",
            "---  ------        --------------  -----  \n",
            " 0   area_type     13320 non-null  object \n",
            " 1   availability  13240 non-null  object \n",
            " 2   location      13239 non-null  object \n",
            " 3   society       7818 non-null   object \n",
            " 4   total_sqft    12993 non-null  float64\n",
            " 5   bath          13167 non-null  float64\n",
            " 6   balcony       12635 non-null  float64\n",
            " 7   price         13240 non-null  float64\n",
            " 8   val_size      13224 non-null  object \n",
            " 9   val_cat       13320 non-null  int64  \n",
            "dtypes: float64(4), int64(1), object(5)\n",
            "memory usage: 1.0+ MB\n"
          ]
        }
      ]
    },
    {
      "cell_type": "code",
      "source": [
        "df.loc[df.price<=50,'Price']='bajo'\n",
        "df.loc[df.price>=120,'Price']='alto'\n",
        "df['Price'] = le.fit_transform(df['Price'])\n",
        "df = df.drop('price', axis=1)"
      ],
      "metadata": {
        "id": "67uMSCLCq0xq"
      },
      "execution_count": 66,
      "outputs": []
    },
    {
      "cell_type": "code",
      "source": [
        "df.info()"
      ],
      "metadata": {
        "colab": {
          "base_uri": "https://localhost:8080/"
        },
        "id": "epfdESCksO12",
        "outputId": "2da8c8b6-94ff-49e6-9522-af74be6d0ce9"
      },
      "execution_count": 67,
      "outputs": [
        {
          "output_type": "stream",
          "name": "stdout",
          "text": [
            "<class 'pandas.core.frame.DataFrame'>\n",
            "RangeIndex: 13320 entries, 0 to 13319\n",
            "Data columns (total 10 columns):\n",
            " #   Column        Non-Null Count  Dtype  \n",
            "---  ------        --------------  -----  \n",
            " 0   area_type     13320 non-null  object \n",
            " 1   availability  13240 non-null  object \n",
            " 2   location      13239 non-null  object \n",
            " 3   society       7818 non-null   object \n",
            " 4   total_sqft    12993 non-null  float64\n",
            " 5   bath          13167 non-null  float64\n",
            " 6   balcony       12635 non-null  float64\n",
            " 7   val_size      13224 non-null  object \n",
            " 8   val_cat       13320 non-null  int64  \n",
            " 9   Price         13320 non-null  int64  \n",
            "dtypes: float64(3), int64(2), object(5)\n",
            "memory usage: 1.0+ MB\n"
          ]
        }
      ]
    },
    {
      "cell_type": "code",
      "source": [
        "df.describe().transpose()"
      ],
      "metadata": {
        "colab": {
          "base_uri": "https://localhost:8080/",
          "height": 206
        },
        "id": "01YTIgNmsZit",
        "outputId": "75573f65-35d6-4f27-ce33-568d06132cc4"
      },
      "execution_count": 68,
      "outputs": [
        {
          "output_type": "execute_result",
          "data": {
            "text/plain": [
              "              count         mean          std  min     25%     50%     75%  \\\n",
              "total_sqft  12993.0  1553.174567  1238.257234  1.0  1100.0  1274.0  1665.0   \n",
              "bath        13167.0     2.691501     1.343284  1.0     2.0     2.0     3.0   \n",
              "balcony     12635.0     1.583854     0.817913  0.0     1.0     2.0     2.0   \n",
              "val_cat     13320.0     0.211787     0.460591  0.0     0.0     0.0     0.0   \n",
              "Price       13320.0     1.226051     0.828230  0.0     0.0     1.0     2.0   \n",
              "\n",
              "                max  \n",
              "total_sqft  52272.0  \n",
              "bath           40.0  \n",
              "balcony         3.0  \n",
              "val_cat         3.0  \n",
              "Price           2.0  "
            ],
            "text/html": [
              "\n",
              "  <div id=\"df-1e7df925-93eb-4ad8-acca-6ec390a45102\">\n",
              "    <div class=\"colab-df-container\">\n",
              "      <div>\n",
              "<style scoped>\n",
              "    .dataframe tbody tr th:only-of-type {\n",
              "        vertical-align: middle;\n",
              "    }\n",
              "\n",
              "    .dataframe tbody tr th {\n",
              "        vertical-align: top;\n",
              "    }\n",
              "\n",
              "    .dataframe thead th {\n",
              "        text-align: right;\n",
              "    }\n",
              "</style>\n",
              "<table border=\"1\" class=\"dataframe\">\n",
              "  <thead>\n",
              "    <tr style=\"text-align: right;\">\n",
              "      <th></th>\n",
              "      <th>count</th>\n",
              "      <th>mean</th>\n",
              "      <th>std</th>\n",
              "      <th>min</th>\n",
              "      <th>25%</th>\n",
              "      <th>50%</th>\n",
              "      <th>75%</th>\n",
              "      <th>max</th>\n",
              "    </tr>\n",
              "  </thead>\n",
              "  <tbody>\n",
              "    <tr>\n",
              "      <th>total_sqft</th>\n",
              "      <td>12993.0</td>\n",
              "      <td>1553.174567</td>\n",
              "      <td>1238.257234</td>\n",
              "      <td>1.0</td>\n",
              "      <td>1100.0</td>\n",
              "      <td>1274.0</td>\n",
              "      <td>1665.0</td>\n",
              "      <td>52272.0</td>\n",
              "    </tr>\n",
              "    <tr>\n",
              "      <th>bath</th>\n",
              "      <td>13167.0</td>\n",
              "      <td>2.691501</td>\n",
              "      <td>1.343284</td>\n",
              "      <td>1.0</td>\n",
              "      <td>2.0</td>\n",
              "      <td>2.0</td>\n",
              "      <td>3.0</td>\n",
              "      <td>40.0</td>\n",
              "    </tr>\n",
              "    <tr>\n",
              "      <th>balcony</th>\n",
              "      <td>12635.0</td>\n",
              "      <td>1.583854</td>\n",
              "      <td>0.817913</td>\n",
              "      <td>0.0</td>\n",
              "      <td>1.0</td>\n",
              "      <td>2.0</td>\n",
              "      <td>2.0</td>\n",
              "      <td>3.0</td>\n",
              "    </tr>\n",
              "    <tr>\n",
              "      <th>val_cat</th>\n",
              "      <td>13320.0</td>\n",
              "      <td>0.211787</td>\n",
              "      <td>0.460591</td>\n",
              "      <td>0.0</td>\n",
              "      <td>0.0</td>\n",
              "      <td>0.0</td>\n",
              "      <td>0.0</td>\n",
              "      <td>3.0</td>\n",
              "    </tr>\n",
              "    <tr>\n",
              "      <th>Price</th>\n",
              "      <td>13320.0</td>\n",
              "      <td>1.226051</td>\n",
              "      <td>0.828230</td>\n",
              "      <td>0.0</td>\n",
              "      <td>0.0</td>\n",
              "      <td>1.0</td>\n",
              "      <td>2.0</td>\n",
              "      <td>2.0</td>\n",
              "    </tr>\n",
              "  </tbody>\n",
              "</table>\n",
              "</div>\n",
              "      <button class=\"colab-df-convert\" onclick=\"convertToInteractive('df-1e7df925-93eb-4ad8-acca-6ec390a45102')\"\n",
              "              title=\"Convert this dataframe to an interactive table.\"\n",
              "              style=\"display:none;\">\n",
              "        \n",
              "  <svg xmlns=\"http://www.w3.org/2000/svg\" height=\"24px\"viewBox=\"0 0 24 24\"\n",
              "       width=\"24px\">\n",
              "    <path d=\"M0 0h24v24H0V0z\" fill=\"none\"/>\n",
              "    <path d=\"M18.56 5.44l.94 2.06.94-2.06 2.06-.94-2.06-.94-.94-2.06-.94 2.06-2.06.94zm-11 1L8.5 8.5l.94-2.06 2.06-.94-2.06-.94L8.5 2.5l-.94 2.06-2.06.94zm10 10l.94 2.06.94-2.06 2.06-.94-2.06-.94-.94-2.06-.94 2.06-2.06.94z\"/><path d=\"M17.41 7.96l-1.37-1.37c-.4-.4-.92-.59-1.43-.59-.52 0-1.04.2-1.43.59L10.3 9.45l-7.72 7.72c-.78.78-.78 2.05 0 2.83L4 21.41c.39.39.9.59 1.41.59.51 0 1.02-.2 1.41-.59l7.78-7.78 2.81-2.81c.8-.78.8-2.07 0-2.86zM5.41 20L4 18.59l7.72-7.72 1.47 1.35L5.41 20z\"/>\n",
              "  </svg>\n",
              "      </button>\n",
              "      \n",
              "  <style>\n",
              "    .colab-df-container {\n",
              "      display:flex;\n",
              "      flex-wrap:wrap;\n",
              "      gap: 12px;\n",
              "    }\n",
              "\n",
              "    .colab-df-convert {\n",
              "      background-color: #E8F0FE;\n",
              "      border: none;\n",
              "      border-radius: 50%;\n",
              "      cursor: pointer;\n",
              "      display: none;\n",
              "      fill: #1967D2;\n",
              "      height: 32px;\n",
              "      padding: 0 0 0 0;\n",
              "      width: 32px;\n",
              "    }\n",
              "\n",
              "    .colab-df-convert:hover {\n",
              "      background-color: #E2EBFA;\n",
              "      box-shadow: 0px 1px 2px rgba(60, 64, 67, 0.3), 0px 1px 3px 1px rgba(60, 64, 67, 0.15);\n",
              "      fill: #174EA6;\n",
              "    }\n",
              "\n",
              "    [theme=dark] .colab-df-convert {\n",
              "      background-color: #3B4455;\n",
              "      fill: #D2E3FC;\n",
              "    }\n",
              "\n",
              "    [theme=dark] .colab-df-convert:hover {\n",
              "      background-color: #434B5C;\n",
              "      box-shadow: 0px 1px 3px 1px rgba(0, 0, 0, 0.15);\n",
              "      filter: drop-shadow(0px 1px 2px rgba(0, 0, 0, 0.3));\n",
              "      fill: #FFFFFF;\n",
              "    }\n",
              "  </style>\n",
              "\n",
              "      <script>\n",
              "        const buttonEl =\n",
              "          document.querySelector('#df-1e7df925-93eb-4ad8-acca-6ec390a45102 button.colab-df-convert');\n",
              "        buttonEl.style.display =\n",
              "          google.colab.kernel.accessAllowed ? 'block' : 'none';\n",
              "\n",
              "        async function convertToInteractive(key) {\n",
              "          const element = document.querySelector('#df-1e7df925-93eb-4ad8-acca-6ec390a45102');\n",
              "          const dataTable =\n",
              "            await google.colab.kernel.invokeFunction('convertToInteractive',\n",
              "                                                     [key], {});\n",
              "          if (!dataTable) return;\n",
              "\n",
              "          const docLinkHtml = 'Like what you see? Visit the ' +\n",
              "            '<a target=\"_blank\" href=https://colab.research.google.com/notebooks/data_table.ipynb>data table notebook</a>'\n",
              "            + ' to learn more about interactive tables.';\n",
              "          element.innerHTML = '';\n",
              "          dataTable['output_type'] = 'display_data';\n",
              "          await google.colab.output.renderOutput(dataTable, element);\n",
              "          const docLink = document.createElement('div');\n",
              "          docLink.innerHTML = docLinkHtml;\n",
              "          element.appendChild(docLink);\n",
              "        }\n",
              "      </script>\n",
              "    </div>\n",
              "  </div>\n",
              "  "
            ]
          },
          "metadata": {},
          "execution_count": 68
        }
      ]
    },
    {
      "cell_type": "code",
      "source": [
        "df\n"
      ],
      "metadata": {
        "colab": {
          "base_uri": "https://localhost:8080/",
          "height": 423
        },
        "id": "jm3EDCjOs3Oh",
        "outputId": "7ee6175c-9819-41eb-c8e6-1702e0a49ea4"
      },
      "execution_count": 69,
      "outputs": [
        {
          "output_type": "execute_result",
          "data": {
            "text/plain": [
              "                  area_type   availability                  location  society  \\\n",
              "0      Super built-up  Area         19-Dec  Electronic City Phase II  Coomee    \n",
              "1                Plot  Area  Ready To Move          Chikka Tirupathi  Theanmp   \n",
              "2            Built-up  Area  Ready To Move               Uttarahalli      NaN   \n",
              "3      Super built-up  Area  Ready To Move        Lingadheeranahalli  Soiewre   \n",
              "4      Super built-up  Area  Ready To Move                  Kothanur      NaN   \n",
              "...                     ...            ...                       ...      ...   \n",
              "13315        Built-up  Area  Ready To Move                Whitefield  ArsiaEx   \n",
              "13316  Super built-up  Area  Ready To Move             Richards Town      NaN   \n",
              "13317        Built-up  Area  Ready To Move     Raja Rajeshwari Nagar  Mahla T   \n",
              "13318  Super built-up  Area         18-Jun           Padmanabhanagar  SollyCl   \n",
              "13319  Super built-up  Area  Ready To Move              Doddathoguru      NaN   \n",
              "\n",
              "       total_sqft  bath  balcony val_size  val_cat  Price  \n",
              "0          1056.0   2.0      1.0        2        0      1  \n",
              "1          2600.0   5.0      3.0        4        1      0  \n",
              "2          1440.0   2.0      3.0        3        0      2  \n",
              "3          1521.0   3.0      1.0        3        0      2  \n",
              "4          1200.0   2.0      1.0        2        0      2  \n",
              "...           ...   ...      ...      ...      ...    ...  \n",
              "13315      3453.0   4.0      0.0        5        1      0  \n",
              "13316      3600.0   5.0      NaN        4        0      0  \n",
              "13317      1141.0   2.0      1.0        2        0      2  \n",
              "13318      4689.0   4.0      1.0        4        0      0  \n",
              "13319       550.0   1.0      1.0        1        0      1  \n",
              "\n",
              "[13320 rows x 10 columns]"
            ],
            "text/html": [
              "\n",
              "  <div id=\"df-c928decf-d1ec-493a-b67c-568cb1801ff8\">\n",
              "    <div class=\"colab-df-container\">\n",
              "      <div>\n",
              "<style scoped>\n",
              "    .dataframe tbody tr th:only-of-type {\n",
              "        vertical-align: middle;\n",
              "    }\n",
              "\n",
              "    .dataframe tbody tr th {\n",
              "        vertical-align: top;\n",
              "    }\n",
              "\n",
              "    .dataframe thead th {\n",
              "        text-align: right;\n",
              "    }\n",
              "</style>\n",
              "<table border=\"1\" class=\"dataframe\">\n",
              "  <thead>\n",
              "    <tr style=\"text-align: right;\">\n",
              "      <th></th>\n",
              "      <th>area_type</th>\n",
              "      <th>availability</th>\n",
              "      <th>location</th>\n",
              "      <th>society</th>\n",
              "      <th>total_sqft</th>\n",
              "      <th>bath</th>\n",
              "      <th>balcony</th>\n",
              "      <th>val_size</th>\n",
              "      <th>val_cat</th>\n",
              "      <th>Price</th>\n",
              "    </tr>\n",
              "  </thead>\n",
              "  <tbody>\n",
              "    <tr>\n",
              "      <th>0</th>\n",
              "      <td>Super built-up  Area</td>\n",
              "      <td>19-Dec</td>\n",
              "      <td>Electronic City Phase II</td>\n",
              "      <td>Coomee</td>\n",
              "      <td>1056.0</td>\n",
              "      <td>2.0</td>\n",
              "      <td>1.0</td>\n",
              "      <td>2</td>\n",
              "      <td>0</td>\n",
              "      <td>1</td>\n",
              "    </tr>\n",
              "    <tr>\n",
              "      <th>1</th>\n",
              "      <td>Plot  Area</td>\n",
              "      <td>Ready To Move</td>\n",
              "      <td>Chikka Tirupathi</td>\n",
              "      <td>Theanmp</td>\n",
              "      <td>2600.0</td>\n",
              "      <td>5.0</td>\n",
              "      <td>3.0</td>\n",
              "      <td>4</td>\n",
              "      <td>1</td>\n",
              "      <td>0</td>\n",
              "    </tr>\n",
              "    <tr>\n",
              "      <th>2</th>\n",
              "      <td>Built-up  Area</td>\n",
              "      <td>Ready To Move</td>\n",
              "      <td>Uttarahalli</td>\n",
              "      <td>NaN</td>\n",
              "      <td>1440.0</td>\n",
              "      <td>2.0</td>\n",
              "      <td>3.0</td>\n",
              "      <td>3</td>\n",
              "      <td>0</td>\n",
              "      <td>2</td>\n",
              "    </tr>\n",
              "    <tr>\n",
              "      <th>3</th>\n",
              "      <td>Super built-up  Area</td>\n",
              "      <td>Ready To Move</td>\n",
              "      <td>Lingadheeranahalli</td>\n",
              "      <td>Soiewre</td>\n",
              "      <td>1521.0</td>\n",
              "      <td>3.0</td>\n",
              "      <td>1.0</td>\n",
              "      <td>3</td>\n",
              "      <td>0</td>\n",
              "      <td>2</td>\n",
              "    </tr>\n",
              "    <tr>\n",
              "      <th>4</th>\n",
              "      <td>Super built-up  Area</td>\n",
              "      <td>Ready To Move</td>\n",
              "      <td>Kothanur</td>\n",
              "      <td>NaN</td>\n",
              "      <td>1200.0</td>\n",
              "      <td>2.0</td>\n",
              "      <td>1.0</td>\n",
              "      <td>2</td>\n",
              "      <td>0</td>\n",
              "      <td>2</td>\n",
              "    </tr>\n",
              "    <tr>\n",
              "      <th>...</th>\n",
              "      <td>...</td>\n",
              "      <td>...</td>\n",
              "      <td>...</td>\n",
              "      <td>...</td>\n",
              "      <td>...</td>\n",
              "      <td>...</td>\n",
              "      <td>...</td>\n",
              "      <td>...</td>\n",
              "      <td>...</td>\n",
              "      <td>...</td>\n",
              "    </tr>\n",
              "    <tr>\n",
              "      <th>13315</th>\n",
              "      <td>Built-up  Area</td>\n",
              "      <td>Ready To Move</td>\n",
              "      <td>Whitefield</td>\n",
              "      <td>ArsiaEx</td>\n",
              "      <td>3453.0</td>\n",
              "      <td>4.0</td>\n",
              "      <td>0.0</td>\n",
              "      <td>5</td>\n",
              "      <td>1</td>\n",
              "      <td>0</td>\n",
              "    </tr>\n",
              "    <tr>\n",
              "      <th>13316</th>\n",
              "      <td>Super built-up  Area</td>\n",
              "      <td>Ready To Move</td>\n",
              "      <td>Richards Town</td>\n",
              "      <td>NaN</td>\n",
              "      <td>3600.0</td>\n",
              "      <td>5.0</td>\n",
              "      <td>NaN</td>\n",
              "      <td>4</td>\n",
              "      <td>0</td>\n",
              "      <td>0</td>\n",
              "    </tr>\n",
              "    <tr>\n",
              "      <th>13317</th>\n",
              "      <td>Built-up  Area</td>\n",
              "      <td>Ready To Move</td>\n",
              "      <td>Raja Rajeshwari Nagar</td>\n",
              "      <td>Mahla T</td>\n",
              "      <td>1141.0</td>\n",
              "      <td>2.0</td>\n",
              "      <td>1.0</td>\n",
              "      <td>2</td>\n",
              "      <td>0</td>\n",
              "      <td>2</td>\n",
              "    </tr>\n",
              "    <tr>\n",
              "      <th>13318</th>\n",
              "      <td>Super built-up  Area</td>\n",
              "      <td>18-Jun</td>\n",
              "      <td>Padmanabhanagar</td>\n",
              "      <td>SollyCl</td>\n",
              "      <td>4689.0</td>\n",
              "      <td>4.0</td>\n",
              "      <td>1.0</td>\n",
              "      <td>4</td>\n",
              "      <td>0</td>\n",
              "      <td>0</td>\n",
              "    </tr>\n",
              "    <tr>\n",
              "      <th>13319</th>\n",
              "      <td>Super built-up  Area</td>\n",
              "      <td>Ready To Move</td>\n",
              "      <td>Doddathoguru</td>\n",
              "      <td>NaN</td>\n",
              "      <td>550.0</td>\n",
              "      <td>1.0</td>\n",
              "      <td>1.0</td>\n",
              "      <td>1</td>\n",
              "      <td>0</td>\n",
              "      <td>1</td>\n",
              "    </tr>\n",
              "  </tbody>\n",
              "</table>\n",
              "<p>13320 rows × 10 columns</p>\n",
              "</div>\n",
              "      <button class=\"colab-df-convert\" onclick=\"convertToInteractive('df-c928decf-d1ec-493a-b67c-568cb1801ff8')\"\n",
              "              title=\"Convert this dataframe to an interactive table.\"\n",
              "              style=\"display:none;\">\n",
              "        \n",
              "  <svg xmlns=\"http://www.w3.org/2000/svg\" height=\"24px\"viewBox=\"0 0 24 24\"\n",
              "       width=\"24px\">\n",
              "    <path d=\"M0 0h24v24H0V0z\" fill=\"none\"/>\n",
              "    <path d=\"M18.56 5.44l.94 2.06.94-2.06 2.06-.94-2.06-.94-.94-2.06-.94 2.06-2.06.94zm-11 1L8.5 8.5l.94-2.06 2.06-.94-2.06-.94L8.5 2.5l-.94 2.06-2.06.94zm10 10l.94 2.06.94-2.06 2.06-.94-2.06-.94-.94-2.06-.94 2.06-2.06.94z\"/><path d=\"M17.41 7.96l-1.37-1.37c-.4-.4-.92-.59-1.43-.59-.52 0-1.04.2-1.43.59L10.3 9.45l-7.72 7.72c-.78.78-.78 2.05 0 2.83L4 21.41c.39.39.9.59 1.41.59.51 0 1.02-.2 1.41-.59l7.78-7.78 2.81-2.81c.8-.78.8-2.07 0-2.86zM5.41 20L4 18.59l7.72-7.72 1.47 1.35L5.41 20z\"/>\n",
              "  </svg>\n",
              "      </button>\n",
              "      \n",
              "  <style>\n",
              "    .colab-df-container {\n",
              "      display:flex;\n",
              "      flex-wrap:wrap;\n",
              "      gap: 12px;\n",
              "    }\n",
              "\n",
              "    .colab-df-convert {\n",
              "      background-color: #E8F0FE;\n",
              "      border: none;\n",
              "      border-radius: 50%;\n",
              "      cursor: pointer;\n",
              "      display: none;\n",
              "      fill: #1967D2;\n",
              "      height: 32px;\n",
              "      padding: 0 0 0 0;\n",
              "      width: 32px;\n",
              "    }\n",
              "\n",
              "    .colab-df-convert:hover {\n",
              "      background-color: #E2EBFA;\n",
              "      box-shadow: 0px 1px 2px rgba(60, 64, 67, 0.3), 0px 1px 3px 1px rgba(60, 64, 67, 0.15);\n",
              "      fill: #174EA6;\n",
              "    }\n",
              "\n",
              "    [theme=dark] .colab-df-convert {\n",
              "      background-color: #3B4455;\n",
              "      fill: #D2E3FC;\n",
              "    }\n",
              "\n",
              "    [theme=dark] .colab-df-convert:hover {\n",
              "      background-color: #434B5C;\n",
              "      box-shadow: 0px 1px 3px 1px rgba(0, 0, 0, 0.15);\n",
              "      filter: drop-shadow(0px 1px 2px rgba(0, 0, 0, 0.3));\n",
              "      fill: #FFFFFF;\n",
              "    }\n",
              "  </style>\n",
              "\n",
              "      <script>\n",
              "        const buttonEl =\n",
              "          document.querySelector('#df-c928decf-d1ec-493a-b67c-568cb1801ff8 button.colab-df-convert');\n",
              "        buttonEl.style.display =\n",
              "          google.colab.kernel.accessAllowed ? 'block' : 'none';\n",
              "\n",
              "        async function convertToInteractive(key) {\n",
              "          const element = document.querySelector('#df-c928decf-d1ec-493a-b67c-568cb1801ff8');\n",
              "          const dataTable =\n",
              "            await google.colab.kernel.invokeFunction('convertToInteractive',\n",
              "                                                     [key], {});\n",
              "          if (!dataTable) return;\n",
              "\n",
              "          const docLinkHtml = 'Like what you see? Visit the ' +\n",
              "            '<a target=\"_blank\" href=https://colab.research.google.com/notebooks/data_table.ipynb>data table notebook</a>'\n",
              "            + ' to learn more about interactive tables.';\n",
              "          element.innerHTML = '';\n",
              "          dataTable['output_type'] = 'display_data';\n",
              "          await google.colab.output.renderOutput(dataTable, element);\n",
              "          const docLink = document.createElement('div');\n",
              "          docLink.innerHTML = docLinkHtml;\n",
              "          element.appendChild(docLink);\n",
              "        }\n",
              "      </script>\n",
              "    </div>\n",
              "  </div>\n",
              "  "
            ]
          },
          "metadata": {},
          "execution_count": 69
        }
      ]
    },
    {
      "cell_type": "code",
      "source": [
        "df['area_type']=le.fit_transform(df['area_type'])\n",
        "df['society']=le.fit_transform(df['society'])\n",
        "df = df.drop('availability',axis=1)\n",
        "df = df.drop('location',axis=1)"
      ],
      "metadata": {
        "id": "4X4Y8NqTiYdu"
      },
      "execution_count": 70,
      "outputs": []
    },
    {
      "cell_type": "code",
      "source": [
        "df = df.fillna(df.mean())"
      ],
      "metadata": {
        "colab": {
          "base_uri": "https://localhost:8080/"
        },
        "id": "gDBP0GNUibM9",
        "outputId": "16d78a5e-ecd0-405d-fc9b-858f75105e7a"
      },
      "execution_count": 71,
      "outputs": [
        {
          "output_type": "stream",
          "name": "stderr",
          "text": [
            "<ipython-input-71-04e87d67d337>:1: FutureWarning: Dropping of nuisance columns in DataFrame reductions (with 'numeric_only=None') is deprecated; in a future version this will raise TypeError.  Select only valid columns before calling the reduction.\n",
            "  df = df.fillna(df.mean())\n"
          ]
        }
      ]
    },
    {
      "cell_type": "code",
      "source": [
        "df.isnull().sum()"
      ],
      "metadata": {
        "colab": {
          "base_uri": "https://localhost:8080/"
        },
        "id": "VQ5DiP0uie4m",
        "outputId": "3101ba74-cf9c-40b6-a99d-321ddeaf9d14"
      },
      "execution_count": 72,
      "outputs": [
        {
          "output_type": "execute_result",
          "data": {
            "text/plain": [
              "area_type      0\n",
              "society        0\n",
              "total_sqft     0\n",
              "bath           0\n",
              "balcony        0\n",
              "val_size      96\n",
              "val_cat        0\n",
              "Price          0\n",
              "dtype: int64"
            ]
          },
          "metadata": {},
          "execution_count": 72
        }
      ]
    },
    {
      "cell_type": "code",
      "source": [
        "df['val_size']= pd.to_numeric(df['val_size'],errors='coerce')"
      ],
      "metadata": {
        "id": "aBuJmRmsiiP0"
      },
      "execution_count": 73,
      "outputs": []
    },
    {
      "cell_type": "code",
      "source": [
        "df = df.fillna(df.mean())"
      ],
      "metadata": {
        "id": "4Kn_sj4QikmX"
      },
      "execution_count": 74,
      "outputs": []
    },
    {
      "cell_type": "code",
      "source": [
        "df.isnull().sum()"
      ],
      "metadata": {
        "colab": {
          "base_uri": "https://localhost:8080/"
        },
        "id": "_bgbJFNQinc8",
        "outputId": "2e5eebe2-d07d-40a8-c633-8934c23864ba"
      },
      "execution_count": 75,
      "outputs": [
        {
          "output_type": "execute_result",
          "data": {
            "text/plain": [
              "area_type     0\n",
              "society       0\n",
              "total_sqft    0\n",
              "bath          0\n",
              "balcony       0\n",
              "val_size      0\n",
              "val_cat       0\n",
              "Price         0\n",
              "dtype: int64"
            ]
          },
          "metadata": {},
          "execution_count": 75
        }
      ]
    },
    {
      "cell_type": "markdown",
      "source": [
        "# BALANCEO Y ATIPICOS"
      ],
      "metadata": {
        "id": "M6iuSXAitBJR"
      }
    },
    {
      "cell_type": "code",
      "source": [
        "df.Price.value_counts()"
      ],
      "metadata": {
        "colab": {
          "base_uri": "https://localhost:8080/"
        },
        "id": "UAnEVOfntPAt",
        "outputId": "fa1563ef-0983-433a-942e-54e528e7e733"
      },
      "execution_count": 76,
      "outputs": [
        {
          "output_type": "execute_result",
          "data": {
            "text/plain": [
              "2    6414\n",
              "1    3503\n",
              "0    3403\n",
              "Name: Price, dtype: int64"
            ]
          },
          "metadata": {},
          "execution_count": 76
        }
      ]
    },
    {
      "cell_type": "code",
      "source": [
        "X = df.drop(['Price'],axis=1)\n",
        "y = df['Price']"
      ],
      "metadata": {
        "id": "uwzB_c5gs-N6"
      },
      "execution_count": 77,
      "outputs": []
    },
    {
      "cell_type": "code",
      "source": [
        "smote = SMOTE()\n",
        "X_smote, y_smote = smote.fit_resample(X,y)\n",
        "y_smote.value_counts()"
      ],
      "metadata": {
        "colab": {
          "base_uri": "https://localhost:8080/"
        },
        "id": "Q2ZW7vIbtY63",
        "outputId": "ed84d0c1-e49a-43cf-ca62-25da423db0f8"
      },
      "execution_count": 78,
      "outputs": [
        {
          "output_type": "execute_result",
          "data": {
            "text/plain": [
              "1    6414\n",
              "0    6414\n",
              "2    6414\n",
              "Name: Price, dtype: int64"
            ]
          },
          "metadata": {},
          "execution_count": 78
        }
      ]
    },
    {
      "cell_type": "code",
      "source": [
        "plt.figure(figsize=(15,15))\n",
        "c = df.columns[:-1]\n",
        "for i in enumerate(c):\n",
        "  plt.subplot(3,3,i[0]+1)\n",
        "  sns.boxplot(x=i[1],data=df)"
      ],
      "metadata": {
        "colab": {
          "base_uri": "https://localhost:8080/",
          "height": 883
        },
        "id": "SlQPL1NCvjju",
        "outputId": "650c9a4b-aeb4-4422-bb51-9acbdf311074"
      },
      "execution_count": 79,
      "outputs": [
        {
          "output_type": "display_data",
          "data": {
            "text/plain": [
              "<Figure size 1080x1080 with 7 Axes>"
            ],
            "image/png": "[encoded data removed]"
          },
          "metadata": {}
        }
      ]
    },
    {
      "cell_type": "code",
      "source": [
        "for i in c:\n",
        "  q1 = df[i].quantile(0.09)#valor\n",
        "  q4 = df[i].quantile(0.91)#valor\n",
        "  df[i][df[i]<=q1] = q1\n",
        "  df[i][df[i]>=q4] = q4"
      ],
      "metadata": {
        "colab": {
          "base_uri": "https://localhost:8080/"
        },
        "id": "kvygrxepjL7N",
        "outputId": "f8a29865-75a9-4803-ae80-e6ed7c94bd1e"
      },
      "execution_count": 86,
      "outputs": [
        {
          "output_type": "stream",
          "name": "stderr",
          "text": [
            "<ipython-input-86-c4c67da0c149>:4: SettingWithCopyWarning: \n",
            "A value is trying to be set on a copy of a slice from a DataFrame\n",
            "\n",
            "See the caveats in the documentation: https://pandas.pydata.org/pandas-docs/stable/user_guide/indexing.html#returning-a-view-versus-a-copy\n",
            "  df[i][df[i]<=q1] = q1\n",
            "<ipython-input-86-c4c67da0c149>:5: SettingWithCopyWarning: \n",
            "A value is trying to be set on a copy of a slice from a DataFrame\n",
            "\n",
            "See the caveats in the documentation: https://pandas.pydata.org/pandas-docs/stable/user_guide/indexing.html#returning-a-view-versus-a-copy\n",
            "  df[i][df[i]>=q4] = q4\n"
          ]
        }
      ]
    },
    {
      "cell_type": "code",
      "source": [
        "plt.figure(figsize=(15,15))\n",
        "c = df.columns[:-1]\n",
        "for i in enumerate(c):\n",
        "  plt.subplot(3,3,i[0]+1)\n",
        "  sns.boxplot(x=i[1],data=df)"
      ],
      "metadata": {
        "colab": {
          "base_uri": "https://localhost:8080/",
          "height": 883
        },
        "id": "CjAwDuy9jOzz",
        "outputId": "669862ca-e32f-4c4e-d718-3f2e06d14bb1"
      },
      "execution_count": 87,
      "outputs": [
        {
          "output_type": "display_data",
          "data": {
            "text/plain": [
              "<Figure size 1080x1080 with 7 Axes>"
            ],
            "image/png": "[encoded data removed]"
          },
          "metadata": {}
        }
      ]
    },
    {
      "cell_type": "code",
      "source": [
        "scaler = MinMaxScaler()\n",
        "scaler.fit(X_smote)\n",
        "X_smote = scaler.transform(X_smote)"
      ],
      "metadata": {
        "id": "6oV9YEVsjUoa"
      },
      "execution_count": 88,
      "outputs": []
    },
    {
      "cell_type": "markdown",
      "source": [
        "#ENTRENAMIENTO"
      ],
      "metadata": {
        "id": "CwqwYofqwVUq"
      }
    },
    {
      "cell_type": "code",
      "source": [
        "X_train, X_test, y_train, y_test = train_test_split(X_smote,y_smote,random_state=500,test_size=0.2)"
      ],
      "metadata": {
        "id": "5veZ7oylwU88"
      },
      "execution_count": 89,
      "outputs": []
    },
    {
      "cell_type": "code",
      "source": [
        "y_train = pd.get_dummies(y_train)\n",
        "y_test = pd.get_dummies(y_test)"
      ],
      "metadata": {
        "id": "XfC0K9qMjhTz"
      },
      "execution_count": 90,
      "outputs": []
    },
    {
      "cell_type": "code",
      "source": [
        "ann = Sequential()\n",
        "ann.add(Dense(6,activation='relu'))\n",
        "ann.add(Dense(3,activation='relu'))\n",
        "ann.add(Dense(3,activation='sigmoid'))\n",
        "ann.compile(optimizer='adam',loss='categorical_crossentropy',metrics=['accuracy'])\n",
        "ann.fit(x=X_train, y=y_train, validation_data = (X_test,y_test),batch_size=500,epochs=200,verbose=1)"
      ],
      "metadata": {
        "colab": {
          "base_uri": "https://localhost:8080/"
        },
        "id": "Qkv0DsHEjjBU",
        "outputId": "7c1bc724-02bf-431c-caf8-3fe5929a978a"
      },
      "execution_count": 91,
      "outputs": [
        {
          "output_type": "stream",
          "name": "stdout",
          "text": [
            "Epoch 1/200\n",
            "31/31 [==============================] - 0s 5ms/step - loss: 1.0925 - accuracy: 0.3385 - val_loss: 1.0887 - val_accuracy: 0.3588\n",
            "Epoch 2/200\n",
            "31/31 [==============================] - 0s 2ms/step - loss: 1.0846 - accuracy: 0.3499 - val_loss: 1.0808 - val_accuracy: 0.3365\n",
            "Epoch 3/200\n",
            "31/31 [==============================] - 0s 2ms/step - loss: 1.0764 - accuracy: 0.3622 - val_loss: 1.0718 - val_accuracy: 0.4175\n",
            "Epoch 4/200\n",
            "31/31 [==============================] - 0s 2ms/step - loss: 1.0671 - accuracy: 0.4281 - val_loss: 1.0610 - val_accuracy: 0.4318\n",
            "Epoch 5/200\n",
            "31/31 [==============================] - 0s 2ms/step - loss: 1.0551 - accuracy: 0.4341 - val_loss: 1.0463 - val_accuracy: 0.4417\n",
            "Epoch 6/200\n",
            "31/31 [==============================] - 0s 2ms/step - loss: 1.0405 - accuracy: 0.4742 - val_loss: 1.0308 - val_accuracy: 0.4926\n",
            "Epoch 7/200\n",
            "31/31 [==============================] - 0s 2ms/step - loss: 1.0259 - accuracy: 0.4943 - val_loss: 1.0150 - val_accuracy: 0.5017\n",
            "Epoch 8/200\n",
            "31/31 [==============================] - 0s 2ms/step - loss: 1.0108 - accuracy: 0.5014 - val_loss: 0.9986 - val_accuracy: 0.5110\n",
            "Epoch 9/200\n",
            "31/31 [==============================] - 0s 2ms/step - loss: 0.9958 - accuracy: 0.5098 - val_loss: 0.9826 - val_accuracy: 0.5404\n",
            "Epoch 10/200\n",
            "31/31 [==============================] - 0s 2ms/step - loss: 0.9804 - accuracy: 0.5247 - val_loss: 0.9657 - val_accuracy: 0.5292\n",
            "Epoch 11/200\n",
            "31/31 [==============================] - 0s 2ms/step - loss: 0.9632 - accuracy: 0.5245 - val_loss: 0.9467 - val_accuracy: 0.5412\n",
            "Epoch 12/200\n",
            "31/31 [==============================] - 0s 2ms/step - loss: 0.9442 - accuracy: 0.5419 - val_loss: 0.9273 - val_accuracy: 0.5648\n",
            "Epoch 13/200\n",
            "31/31 [==============================] - 0s 2ms/step - loss: 0.9276 - accuracy: 0.5646 - val_loss: 0.9110 - val_accuracy: 0.5724\n",
            "Epoch 14/200\n",
            "31/31 [==============================] - 0s 2ms/step - loss: 0.9130 - accuracy: 0.5684 - val_loss: 0.8967 - val_accuracy: 0.5757\n",
            "Epoch 15/200\n",
            "31/31 [==============================] - 0s 2ms/step - loss: 0.8999 - accuracy: 0.5751 - val_loss: 0.8844 - val_accuracy: 0.5866\n",
            "Epoch 16/200\n",
            "31/31 [==============================] - 0s 2ms/step - loss: 0.8872 - accuracy: 0.5825 - val_loss: 0.8699 - val_accuracy: 0.5911\n",
            "Epoch 17/200\n",
            "31/31 [==============================] - 0s 2ms/step - loss: 0.8725 - accuracy: 0.5930 - val_loss: 0.8545 - val_accuracy: 0.6061\n",
            "Epoch 18/200\n",
            "31/31 [==============================] - 0s 2ms/step - loss: 0.8576 - accuracy: 0.6042 - val_loss: 0.8397 - val_accuracy: 0.6126\n",
            "Epoch 19/200\n",
            "31/31 [==============================] - 0s 2ms/step - loss: 0.8436 - accuracy: 0.6122 - val_loss: 0.8258 - val_accuracy: 0.6241\n",
            "Epoch 20/200\n",
            "31/31 [==============================] - 0s 2ms/step - loss: 0.8297 - accuracy: 0.6227 - val_loss: 0.8125 - val_accuracy: 0.6316\n",
            "Epoch 21/200\n",
            "31/31 [==============================] - 0s 2ms/step - loss: 0.8166 - accuracy: 0.6340 - val_loss: 0.7997 - val_accuracy: 0.6404\n",
            "Epoch 22/200\n",
            "31/31 [==============================] - 0s 3ms/step - loss: 0.8041 - accuracy: 0.6402 - val_loss: 0.7874 - val_accuracy: 0.6513\n",
            "Epoch 23/200\n",
            "31/31 [==============================] - 0s 2ms/step - loss: 0.7916 - accuracy: 0.6463 - val_loss: 0.7756 - val_accuracy: 0.6586\n",
            "Epoch 24/200\n",
            "31/31 [==============================] - 0s 2ms/step - loss: 0.7795 - accuracy: 0.6551 - val_loss: 0.7644 - val_accuracy: 0.6687\n",
            "Epoch 25/200\n",
            "31/31 [==============================] - 0s 2ms/step - loss: 0.7685 - accuracy: 0.6605 - val_loss: 0.7543 - val_accuracy: 0.6734\n",
            "Epoch 26/200\n",
            "31/31 [==============================] - 0s 2ms/step - loss: 0.7587 - accuracy: 0.6638 - val_loss: 0.7455 - val_accuracy: 0.6768\n",
            "Epoch 27/200\n",
            "31/31 [==============================] - 0s 2ms/step - loss: 0.7491 - accuracy: 0.6688 - val_loss: 0.7355 - val_accuracy: 0.6807\n",
            "Epoch 28/200\n",
            "31/31 [==============================] - 0s 2ms/step - loss: 0.7394 - accuracy: 0.6716 - val_loss: 0.7282 - val_accuracy: 0.6734\n",
            "Epoch 29/200\n",
            "31/31 [==============================] - 0s 2ms/step - loss: 0.7301 - accuracy: 0.6717 - val_loss: 0.7192 - val_accuracy: 0.6804\n",
            "Epoch 30/200\n",
            "31/31 [==============================] - 0s 2ms/step - loss: 0.7224 - accuracy: 0.6780 - val_loss: 0.7126 - val_accuracy: 0.6849\n",
            "Epoch 31/200\n",
            "31/31 [==============================] - 0s 2ms/step - loss: 0.7159 - accuracy: 0.6784 - val_loss: 0.7060 - val_accuracy: 0.6882\n",
            "Epoch 32/200\n",
            "31/31 [==============================] - 0s 2ms/step - loss: 0.7100 - accuracy: 0.6824 - val_loss: 0.7009 - val_accuracy: 0.6916\n",
            "Epoch 33/200\n",
            "31/31 [==============================] - 0s 2ms/step - loss: 0.7050 - accuracy: 0.6844 - val_loss: 0.6960 - val_accuracy: 0.6932\n",
            "Epoch 34/200\n",
            "31/31 [==============================] - 0s 2ms/step - loss: 0.7002 - accuracy: 0.6861 - val_loss: 0.6919 - val_accuracy: 0.6900\n",
            "Epoch 35/200\n",
            "31/31 [==============================] - 0s 2ms/step - loss: 0.6964 - accuracy: 0.6882 - val_loss: 0.6883 - val_accuracy: 0.7012\n",
            "Epoch 36/200\n",
            "31/31 [==============================] - 0s 2ms/step - loss: 0.6926 - accuracy: 0.6904 - val_loss: 0.6845 - val_accuracy: 0.6926\n",
            "Epoch 37/200\n",
            "31/31 [==============================] - 0s 2ms/step - loss: 0.6893 - accuracy: 0.6895 - val_loss: 0.6816 - val_accuracy: 0.6997\n",
            "Epoch 38/200\n",
            "31/31 [==============================] - 0s 2ms/step - loss: 0.6864 - accuracy: 0.6906 - val_loss: 0.6794 - val_accuracy: 0.7015\n",
            "Epoch 39/200\n",
            "31/31 [==============================] - 0s 2ms/step - loss: 0.6842 - accuracy: 0.6906 - val_loss: 0.6764 - val_accuracy: 0.6978\n",
            "Epoch 40/200\n",
            "31/31 [==============================] - 0s 2ms/step - loss: 0.6812 - accuracy: 0.6915 - val_loss: 0.6739 - val_accuracy: 0.6973\n",
            "Epoch 41/200\n",
            "31/31 [==============================] - 0s 2ms/step - loss: 0.6791 - accuracy: 0.6931 - val_loss: 0.6718 - val_accuracy: 0.6981\n",
            "Epoch 42/200\n",
            "31/31 [==============================] - 0s 2ms/step - loss: 0.6769 - accuracy: 0.6923 - val_loss: 0.6696 - val_accuracy: 0.7023\n",
            "Epoch 43/200\n",
            "31/31 [==============================] - 0s 2ms/step - loss: 0.6750 - accuracy: 0.6932 - val_loss: 0.6704 - val_accuracy: 0.7025\n",
            "Epoch 44/200\n",
            "31/31 [==============================] - 0s 2ms/step - loss: 0.6738 - accuracy: 0.6931 - val_loss: 0.6661 - val_accuracy: 0.7015\n",
            "Epoch 45/200\n",
            "31/31 [==============================] - 0s 2ms/step - loss: 0.6711 - accuracy: 0.6950 - val_loss: 0.6637 - val_accuracy: 0.7023\n",
            "Epoch 46/200\n",
            "31/31 [==============================] - 0s 2ms/step - loss: 0.6693 - accuracy: 0.6961 - val_loss: 0.6630 - val_accuracy: 0.6945\n",
            "Epoch 47/200\n",
            "31/31 [==============================] - 0s 2ms/step - loss: 0.6679 - accuracy: 0.6946 - val_loss: 0.6603 - val_accuracy: 0.7033\n",
            "Epoch 48/200\n",
            "31/31 [==============================] - 0s 2ms/step - loss: 0.6658 - accuracy: 0.6977 - val_loss: 0.6584 - val_accuracy: 0.7028\n",
            "Epoch 49/200\n",
            "31/31 [==============================] - 0s 2ms/step - loss: 0.6642 - accuracy: 0.6960 - val_loss: 0.6571 - val_accuracy: 0.7028\n",
            "Epoch 50/200\n",
            "31/31 [==============================] - 0s 2ms/step - loss: 0.6627 - accuracy: 0.6969 - val_loss: 0.6553 - val_accuracy: 0.7051\n",
            "Epoch 51/200\n",
            "31/31 [==============================] - 0s 2ms/step - loss: 0.6615 - accuracy: 0.6975 - val_loss: 0.6540 - val_accuracy: 0.7028\n",
            "Epoch 52/200\n",
            "31/31 [==============================] - 0s 2ms/step - loss: 0.6612 - accuracy: 0.6980 - val_loss: 0.6527 - val_accuracy: 0.7030\n",
            "Epoch 53/200\n",
            "31/31 [==============================] - 0s 2ms/step - loss: 0.6594 - accuracy: 0.6974 - val_loss: 0.6536 - val_accuracy: 0.7056\n",
            "Epoch 54/200\n",
            "31/31 [==============================] - 0s 2ms/step - loss: 0.6579 - accuracy: 0.6995 - val_loss: 0.6500 - val_accuracy: 0.7043\n",
            "Epoch 55/200\n",
            "31/31 [==============================] - 0s 2ms/step - loss: 0.6580 - accuracy: 0.6972 - val_loss: 0.6489 - val_accuracy: 0.7036\n",
            "Epoch 56/200\n",
            "31/31 [==============================] - 0s 2ms/step - loss: 0.6553 - accuracy: 0.7007 - val_loss: 0.6478 - val_accuracy: 0.7054\n",
            "Epoch 57/200\n",
            "31/31 [==============================] - 0s 2ms/step - loss: 0.6546 - accuracy: 0.7016 - val_loss: 0.6469 - val_accuracy: 0.7046\n",
            "Epoch 58/200\n",
            "31/31 [==============================] - 0s 2ms/step - loss: 0.6539 - accuracy: 0.7002 - val_loss: 0.6457 - val_accuracy: 0.7051\n",
            "Epoch 59/200\n",
            "31/31 [==============================] - 0s 2ms/step - loss: 0.6520 - accuracy: 0.7003 - val_loss: 0.6444 - val_accuracy: 0.7028\n",
            "Epoch 60/200\n",
            "31/31 [==============================] - 0s 2ms/step - loss: 0.6513 - accuracy: 0.7009 - val_loss: 0.6452 - val_accuracy: 0.7075\n",
            "Epoch 61/200\n",
            "31/31 [==============================] - 0s 2ms/step - loss: 0.6505 - accuracy: 0.7014 - val_loss: 0.6436 - val_accuracy: 0.7015\n",
            "Epoch 62/200\n",
            "31/31 [==============================] - 0s 2ms/step - loss: 0.6496 - accuracy: 0.6991 - val_loss: 0.6427 - val_accuracy: 0.7077\n",
            "Epoch 63/200\n",
            "31/31 [==============================] - 0s 2ms/step - loss: 0.6485 - accuracy: 0.7025 - val_loss: 0.6406 - val_accuracy: 0.7049\n",
            "Epoch 64/200\n",
            "31/31 [==============================] - 0s 2ms/step - loss: 0.6473 - accuracy: 0.7026 - val_loss: 0.6401 - val_accuracy: 0.7090\n",
            "Epoch 65/200\n",
            "31/31 [==============================] - 0s 2ms/step - loss: 0.6467 - accuracy: 0.7043 - val_loss: 0.6412 - val_accuracy: 0.6997\n",
            "Epoch 66/200\n",
            "31/31 [==============================] - 0s 2ms/step - loss: 0.6460 - accuracy: 0.7042 - val_loss: 0.6376 - val_accuracy: 0.7067\n",
            "Epoch 67/200\n",
            "31/31 [==============================] - 0s 2ms/step - loss: 0.6446 - accuracy: 0.7047 - val_loss: 0.6366 - val_accuracy: 0.7069\n",
            "Epoch 68/200\n",
            "31/31 [==============================] - 0s 2ms/step - loss: 0.6442 - accuracy: 0.7034 - val_loss: 0.6441 - val_accuracy: 0.6984\n",
            "Epoch 69/200\n",
            "31/31 [==============================] - 0s 2ms/step - loss: 0.6435 - accuracy: 0.7047 - val_loss: 0.6383 - val_accuracy: 0.6986\n",
            "Epoch 70/200\n",
            "31/31 [==============================] - 0s 2ms/step - loss: 0.6429 - accuracy: 0.7042 - val_loss: 0.6348 - val_accuracy: 0.7142\n",
            "Epoch 71/200\n",
            "31/31 [==============================] - 0s 2ms/step - loss: 0.6414 - accuracy: 0.7060 - val_loss: 0.6331 - val_accuracy: 0.7059\n",
            "Epoch 72/200\n",
            "31/31 [==============================] - 0s 2ms/step - loss: 0.6403 - accuracy: 0.7078 - val_loss: 0.6324 - val_accuracy: 0.7101\n",
            "Epoch 73/200\n",
            "31/31 [==============================] - 0s 2ms/step - loss: 0.6405 - accuracy: 0.7059 - val_loss: 0.6319 - val_accuracy: 0.7082\n",
            "Epoch 74/200\n",
            "31/31 [==============================] - 0s 2ms/step - loss: 0.6389 - accuracy: 0.7066 - val_loss: 0.6306 - val_accuracy: 0.7106\n",
            "Epoch 75/200\n",
            "31/31 [==============================] - 0s 2ms/step - loss: 0.6382 - accuracy: 0.7077 - val_loss: 0.6305 - val_accuracy: 0.7142\n",
            "Epoch 76/200\n",
            "31/31 [==============================] - 0s 2ms/step - loss: 0.6372 - accuracy: 0.7085 - val_loss: 0.6298 - val_accuracy: 0.7137\n",
            "Epoch 77/200\n",
            "31/31 [==============================] - 0s 2ms/step - loss: 0.6367 - accuracy: 0.7077 - val_loss: 0.6282 - val_accuracy: 0.7103\n",
            "Epoch 78/200\n",
            "31/31 [==============================] - 0s 2ms/step - loss: 0.6359 - accuracy: 0.7103 - val_loss: 0.6275 - val_accuracy: 0.7090\n",
            "Epoch 79/200\n",
            "31/31 [==============================] - 0s 2ms/step - loss: 0.6348 - accuracy: 0.7097 - val_loss: 0.6265 - val_accuracy: 0.7129\n",
            "Epoch 80/200\n",
            "31/31 [==============================] - 0s 2ms/step - loss: 0.6337 - accuracy: 0.7110 - val_loss: 0.6258 - val_accuracy: 0.7140\n",
            "Epoch 81/200\n",
            "31/31 [==============================] - 0s 2ms/step - loss: 0.6337 - accuracy: 0.7084 - val_loss: 0.6264 - val_accuracy: 0.7132\n",
            "Epoch 82/200\n",
            "31/31 [==============================] - 0s 2ms/step - loss: 0.6336 - accuracy: 0.7084 - val_loss: 0.6264 - val_accuracy: 0.7140\n",
            "Epoch 83/200\n",
            "31/31 [==============================] - 0s 2ms/step - loss: 0.6318 - accuracy: 0.7104 - val_loss: 0.6245 - val_accuracy: 0.7150\n",
            "Epoch 84/200\n",
            "31/31 [==============================] - 0s 2ms/step - loss: 0.6310 - accuracy: 0.7109 - val_loss: 0.6228 - val_accuracy: 0.7155\n",
            "Epoch 85/200\n",
            "31/31 [==============================] - 0s 2ms/step - loss: 0.6308 - accuracy: 0.7106 - val_loss: 0.6220 - val_accuracy: 0.7140\n",
            "Epoch 86/200\n",
            "31/31 [==============================] - 0s 2ms/step - loss: 0.6297 - accuracy: 0.7116 - val_loss: 0.6218 - val_accuracy: 0.7150\n",
            "Epoch 87/200\n",
            "31/31 [==============================] - 0s 2ms/step - loss: 0.6287 - accuracy: 0.7138 - val_loss: 0.6213 - val_accuracy: 0.7178\n",
            "Epoch 88/200\n",
            "31/31 [==============================] - 0s 2ms/step - loss: 0.6281 - accuracy: 0.7129 - val_loss: 0.6208 - val_accuracy: 0.7191\n",
            "Epoch 89/200\n",
            "31/31 [==============================] - 0s 2ms/step - loss: 0.6271 - accuracy: 0.7127 - val_loss: 0.6203 - val_accuracy: 0.7199\n",
            "Epoch 90/200\n",
            "31/31 [==============================] - 0s 2ms/step - loss: 0.6268 - accuracy: 0.7157 - val_loss: 0.6180 - val_accuracy: 0.7142\n",
            "Epoch 91/200\n",
            "31/31 [==============================] - 0s 2ms/step - loss: 0.6259 - accuracy: 0.7139 - val_loss: 0.6176 - val_accuracy: 0.7178\n",
            "Epoch 92/200\n",
            "31/31 [==============================] - 0s 2ms/step - loss: 0.6258 - accuracy: 0.7143 - val_loss: 0.6172 - val_accuracy: 0.7210\n",
            "Epoch 93/200\n",
            "31/31 [==============================] - 0s 2ms/step - loss: 0.6261 - accuracy: 0.7126 - val_loss: 0.6191 - val_accuracy: 0.7140\n",
            "Epoch 94/200\n",
            "31/31 [==============================] - 0s 2ms/step - loss: 0.6248 - accuracy: 0.7144 - val_loss: 0.6163 - val_accuracy: 0.7223\n",
            "Epoch 95/200\n",
            "31/31 [==============================] - 0s 2ms/step - loss: 0.6229 - accuracy: 0.7182 - val_loss: 0.6163 - val_accuracy: 0.7217\n",
            "Epoch 96/200\n",
            "31/31 [==============================] - 0s 2ms/step - loss: 0.6224 - accuracy: 0.7164 - val_loss: 0.6139 - val_accuracy: 0.7189\n",
            "Epoch 97/200\n",
            "31/31 [==============================] - 0s 2ms/step - loss: 0.6215 - accuracy: 0.7173 - val_loss: 0.6134 - val_accuracy: 0.7153\n",
            "Epoch 98/200\n",
            "31/31 [==============================] - 0s 2ms/step - loss: 0.6209 - accuracy: 0.7195 - val_loss: 0.6140 - val_accuracy: 0.7243\n",
            "Epoch 99/200\n",
            "31/31 [==============================] - 0s 2ms/step - loss: 0.6206 - accuracy: 0.7183 - val_loss: 0.6118 - val_accuracy: 0.7199\n",
            "Epoch 100/200\n",
            "31/31 [==============================] - 0s 2ms/step - loss: 0.6196 - accuracy: 0.7181 - val_loss: 0.6109 - val_accuracy: 0.7189\n",
            "Epoch 101/200\n",
            "31/31 [==============================] - 0s 2ms/step - loss: 0.6192 - accuracy: 0.7205 - val_loss: 0.6117 - val_accuracy: 0.7145\n",
            "Epoch 102/200\n",
            "31/31 [==============================] - 0s 2ms/step - loss: 0.6184 - accuracy: 0.7173 - val_loss: 0.6097 - val_accuracy: 0.7207\n",
            "Epoch 103/200\n",
            "31/31 [==============================] - 0s 2ms/step - loss: 0.6174 - accuracy: 0.7195 - val_loss: 0.6102 - val_accuracy: 0.7259\n",
            "Epoch 104/200\n",
            "31/31 [==============================] - 0s 2ms/step - loss: 0.6171 - accuracy: 0.7201 - val_loss: 0.6082 - val_accuracy: 0.7207\n",
            "Epoch 105/200\n",
            "31/31 [==============================] - 0s 2ms/step - loss: 0.6168 - accuracy: 0.7194 - val_loss: 0.6080 - val_accuracy: 0.7241\n",
            "Epoch 106/200\n",
            "31/31 [==============================] - 0s 2ms/step - loss: 0.6160 - accuracy: 0.7209 - val_loss: 0.6086 - val_accuracy: 0.7269\n",
            "Epoch 107/200\n",
            "31/31 [==============================] - 0s 2ms/step - loss: 0.6158 - accuracy: 0.7190 - val_loss: 0.6070 - val_accuracy: 0.7256\n",
            "Epoch 108/200\n",
            "31/31 [==============================] - 0s 2ms/step - loss: 0.6146 - accuracy: 0.7229 - val_loss: 0.6056 - val_accuracy: 0.7267\n",
            "Epoch 109/200\n",
            "31/31 [==============================] - 0s 2ms/step - loss: 0.6136 - accuracy: 0.7223 - val_loss: 0.6053 - val_accuracy: 0.7181\n",
            "Epoch 110/200\n",
            "31/31 [==============================] - 0s 2ms/step - loss: 0.6144 - accuracy: 0.7223 - val_loss: 0.6043 - val_accuracy: 0.7272\n",
            "Epoch 111/200\n",
            "31/31 [==============================] - 0s 2ms/step - loss: 0.6125 - accuracy: 0.7246 - val_loss: 0.6047 - val_accuracy: 0.7259\n",
            "Epoch 112/200\n",
            "31/31 [==============================] - 0s 2ms/step - loss: 0.6120 - accuracy: 0.7228 - val_loss: 0.6031 - val_accuracy: 0.7262\n",
            "Epoch 113/200\n",
            "31/31 [==============================] - 0s 2ms/step - loss: 0.6115 - accuracy: 0.7237 - val_loss: 0.6024 - val_accuracy: 0.7269\n",
            "Epoch 114/200\n",
            "31/31 [==============================] - 0s 2ms/step - loss: 0.6114 - accuracy: 0.7246 - val_loss: 0.6022 - val_accuracy: 0.7269\n",
            "Epoch 115/200\n",
            "31/31 [==============================] - 0s 2ms/step - loss: 0.6098 - accuracy: 0.7275 - val_loss: 0.6027 - val_accuracy: 0.7173\n",
            "Epoch 116/200\n",
            "31/31 [==============================] - 0s 2ms/step - loss: 0.6100 - accuracy: 0.7227 - val_loss: 0.6008 - val_accuracy: 0.7217\n",
            "Epoch 117/200\n",
            "31/31 [==============================] - 0s 2ms/step - loss: 0.6093 - accuracy: 0.7236 - val_loss: 0.5999 - val_accuracy: 0.7262\n",
            "Epoch 118/200\n",
            "31/31 [==============================] - 0s 2ms/step - loss: 0.6087 - accuracy: 0.7251 - val_loss: 0.5995 - val_accuracy: 0.7285\n",
            "Epoch 119/200\n",
            "31/31 [==============================] - 0s 2ms/step - loss: 0.6076 - accuracy: 0.7264 - val_loss: 0.5988 - val_accuracy: 0.7269\n",
            "Epoch 120/200\n",
            "31/31 [==============================] - 0s 3ms/step - loss: 0.6073 - accuracy: 0.7269 - val_loss: 0.5997 - val_accuracy: 0.7199\n",
            "Epoch 121/200\n",
            "31/31 [==============================] - 0s 2ms/step - loss: 0.6068 - accuracy: 0.7278 - val_loss: 0.5976 - val_accuracy: 0.7308\n",
            "Epoch 122/200\n",
            "31/31 [==============================] - 0s 3ms/step - loss: 0.6069 - accuracy: 0.7249 - val_loss: 0.5975 - val_accuracy: 0.7329\n",
            "Epoch 123/200\n",
            "31/31 [==============================] - 0s 2ms/step - loss: 0.6055 - accuracy: 0.7276 - val_loss: 0.5963 - val_accuracy: 0.7282\n",
            "Epoch 124/200\n",
            "31/31 [==============================] - 0s 2ms/step - loss: 0.6051 - accuracy: 0.7276 - val_loss: 0.5962 - val_accuracy: 0.7256\n",
            "Epoch 125/200\n",
            "31/31 [==============================] - 0s 2ms/step - loss: 0.6056 - accuracy: 0.7270 - val_loss: 0.5967 - val_accuracy: 0.7223\n",
            "Epoch 126/200\n",
            "31/31 [==============================] - 0s 2ms/step - loss: 0.6044 - accuracy: 0.7286 - val_loss: 0.5947 - val_accuracy: 0.7290\n",
            "Epoch 127/200\n",
            "31/31 [==============================] - 0s 2ms/step - loss: 0.6037 - accuracy: 0.7295 - val_loss: 0.5940 - val_accuracy: 0.7290\n",
            "Epoch 128/200\n",
            "31/31 [==============================] - 0s 2ms/step - loss: 0.6028 - accuracy: 0.7283 - val_loss: 0.5936 - val_accuracy: 0.7298\n",
            "Epoch 129/200\n",
            "31/31 [==============================] - 0s 2ms/step - loss: 0.6024 - accuracy: 0.7287 - val_loss: 0.5943 - val_accuracy: 0.7327\n",
            "Epoch 130/200\n",
            "31/31 [==============================] - 0s 2ms/step - loss: 0.6019 - accuracy: 0.7292 - val_loss: 0.5925 - val_accuracy: 0.7324\n",
            "Epoch 131/200\n",
            "31/31 [==============================] - 0s 2ms/step - loss: 0.6014 - accuracy: 0.7288 - val_loss: 0.5931 - val_accuracy: 0.7340\n",
            "Epoch 132/200\n",
            "31/31 [==============================] - 0s 2ms/step - loss: 0.6007 - accuracy: 0.7297 - val_loss: 0.5916 - val_accuracy: 0.7295\n",
            "Epoch 133/200\n",
            "31/31 [==============================] - 0s 2ms/step - loss: 0.6005 - accuracy: 0.7309 - val_loss: 0.5915 - val_accuracy: 0.7290\n",
            "Epoch 134/200\n",
            "31/31 [==============================] - 0s 2ms/step - loss: 0.5999 - accuracy: 0.7301 - val_loss: 0.5904 - val_accuracy: 0.7324\n",
            "Epoch 135/200\n",
            "31/31 [==============================] - 0s 2ms/step - loss: 0.5994 - accuracy: 0.7311 - val_loss: 0.5900 - val_accuracy: 0.7311\n",
            "Epoch 136/200\n",
            "31/31 [==============================] - 0s 2ms/step - loss: 0.5991 - accuracy: 0.7312 - val_loss: 0.5902 - val_accuracy: 0.7290\n",
            "Epoch 137/200\n",
            "31/31 [==============================] - 0s 2ms/step - loss: 0.5986 - accuracy: 0.7305 - val_loss: 0.5894 - val_accuracy: 0.7329\n",
            "Epoch 138/200\n",
            "31/31 [==============================] - 0s 3ms/step - loss: 0.5982 - accuracy: 0.7316 - val_loss: 0.5887 - val_accuracy: 0.7327\n",
            "Epoch 139/200\n",
            "31/31 [==============================] - 0s 2ms/step - loss: 0.5977 - accuracy: 0.7323 - val_loss: 0.5881 - val_accuracy: 0.7319\n",
            "Epoch 140/200\n",
            "31/31 [==============================] - 0s 2ms/step - loss: 0.5974 - accuracy: 0.7301 - val_loss: 0.5886 - val_accuracy: 0.7267\n",
            "Epoch 141/200\n",
            "31/31 [==============================] - 0s 2ms/step - loss: 0.5974 - accuracy: 0.7325 - val_loss: 0.5872 - val_accuracy: 0.7342\n",
            "Epoch 142/200\n",
            "31/31 [==============================] - 0s 2ms/step - loss: 0.5973 - accuracy: 0.7332 - val_loss: 0.5891 - val_accuracy: 0.7327\n",
            "Epoch 143/200\n",
            "31/31 [==============================] - 0s 2ms/step - loss: 0.5970 - accuracy: 0.7299 - val_loss: 0.5867 - val_accuracy: 0.7337\n",
            "Epoch 144/200\n",
            "31/31 [==============================] - 0s 2ms/step - loss: 0.5959 - accuracy: 0.7336 - val_loss: 0.5861 - val_accuracy: 0.7329\n",
            "Epoch 145/200\n",
            "31/31 [==============================] - 0s 2ms/step - loss: 0.5955 - accuracy: 0.7336 - val_loss: 0.5859 - val_accuracy: 0.7342\n",
            "Epoch 146/200\n",
            "31/31 [==============================] - 0s 2ms/step - loss: 0.5951 - accuracy: 0.7329 - val_loss: 0.5852 - val_accuracy: 0.7340\n",
            "Epoch 147/200\n",
            "31/31 [==============================] - 0s 2ms/step - loss: 0.5956 - accuracy: 0.7304 - val_loss: 0.5850 - val_accuracy: 0.7345\n",
            "Epoch 148/200\n",
            "31/31 [==============================] - 0s 2ms/step - loss: 0.5943 - accuracy: 0.7346 - val_loss: 0.5844 - val_accuracy: 0.7345\n",
            "Epoch 149/200\n",
            "31/31 [==============================] - 0s 2ms/step - loss: 0.5947 - accuracy: 0.7331 - val_loss: 0.5844 - val_accuracy: 0.7334\n",
            "Epoch 150/200\n",
            "31/31 [==============================] - 0s 2ms/step - loss: 0.5940 - accuracy: 0.7331 - val_loss: 0.5866 - val_accuracy: 0.7342\n",
            "Epoch 151/200\n",
            "31/31 [==============================] - 0s 2ms/step - loss: 0.5942 - accuracy: 0.7336 - val_loss: 0.5833 - val_accuracy: 0.7355\n",
            "Epoch 152/200\n",
            "31/31 [==============================] - 0s 2ms/step - loss: 0.5935 - accuracy: 0.7347 - val_loss: 0.5841 - val_accuracy: 0.7327\n",
            "Epoch 153/200\n",
            "31/31 [==============================] - 0s 2ms/step - loss: 0.5943 - accuracy: 0.7317 - val_loss: 0.5850 - val_accuracy: 0.7355\n",
            "Epoch 154/200\n",
            "31/31 [==============================] - 0s 2ms/step - loss: 0.5930 - accuracy: 0.7332 - val_loss: 0.5847 - val_accuracy: 0.7345\n",
            "Epoch 155/200\n",
            "31/31 [==============================] - 0s 2ms/step - loss: 0.5928 - accuracy: 0.7331 - val_loss: 0.5852 - val_accuracy: 0.7342\n",
            "Epoch 156/200\n",
            "31/31 [==============================] - 0s 2ms/step - loss: 0.5925 - accuracy: 0.7356 - val_loss: 0.5817 - val_accuracy: 0.7368\n",
            "Epoch 157/200\n",
            "31/31 [==============================] - 0s 2ms/step - loss: 0.5928 - accuracy: 0.7357 - val_loss: 0.5821 - val_accuracy: 0.7363\n",
            "Epoch 158/200\n",
            "31/31 [==============================] - 0s 3ms/step - loss: 0.5927 - accuracy: 0.7322 - val_loss: 0.5815 - val_accuracy: 0.7373\n",
            "Epoch 159/200\n",
            "31/31 [==============================] - 0s 2ms/step - loss: 0.5918 - accuracy: 0.7363 - val_loss: 0.5809 - val_accuracy: 0.7368\n",
            "Epoch 160/200\n",
            "31/31 [==============================] - 0s 2ms/step - loss: 0.5917 - accuracy: 0.7355 - val_loss: 0.5807 - val_accuracy: 0.7366\n",
            "Epoch 161/200\n",
            "31/31 [==============================] - 0s 2ms/step - loss: 0.5918 - accuracy: 0.7347 - val_loss: 0.5809 - val_accuracy: 0.7373\n",
            "Epoch 162/200\n",
            "31/31 [==============================] - 0s 2ms/step - loss: 0.5904 - accuracy: 0.7351 - val_loss: 0.5805 - val_accuracy: 0.7384\n",
            "Epoch 163/200\n",
            "31/31 [==============================] - 0s 2ms/step - loss: 0.5905 - accuracy: 0.7359 - val_loss: 0.5811 - val_accuracy: 0.7363\n",
            "Epoch 164/200\n",
            "31/31 [==============================] - 0s 2ms/step - loss: 0.5905 - accuracy: 0.7364 - val_loss: 0.5812 - val_accuracy: 0.7392\n",
            "Epoch 165/200\n",
            "31/31 [==============================] - 0s 2ms/step - loss: 0.5905 - accuracy: 0.7363 - val_loss: 0.5829 - val_accuracy: 0.7355\n",
            "Epoch 166/200\n",
            "31/31 [==============================] - 0s 2ms/step - loss: 0.5901 - accuracy: 0.7351 - val_loss: 0.5792 - val_accuracy: 0.7384\n",
            "Epoch 167/200\n",
            "31/31 [==============================] - 0s 2ms/step - loss: 0.5897 - accuracy: 0.7365 - val_loss: 0.5798 - val_accuracy: 0.7319\n",
            "Epoch 168/200\n",
            "31/31 [==============================] - 0s 2ms/step - loss: 0.5898 - accuracy: 0.7354 - val_loss: 0.5790 - val_accuracy: 0.7376\n",
            "Epoch 169/200\n",
            "31/31 [==============================] - 0s 2ms/step - loss: 0.5890 - accuracy: 0.7360 - val_loss: 0.5785 - val_accuracy: 0.7386\n",
            "Epoch 170/200\n",
            "31/31 [==============================] - 0s 2ms/step - loss: 0.5895 - accuracy: 0.7348 - val_loss: 0.5784 - val_accuracy: 0.7360\n",
            "Epoch 171/200\n",
            "31/31 [==============================] - 0s 2ms/step - loss: 0.5889 - accuracy: 0.7344 - val_loss: 0.5784 - val_accuracy: 0.7371\n",
            "Epoch 172/200\n",
            "31/31 [==============================] - 0s 2ms/step - loss: 0.5888 - accuracy: 0.7368 - val_loss: 0.5777 - val_accuracy: 0.7376\n",
            "Epoch 173/200\n",
            "31/31 [==============================] - 0s 2ms/step - loss: 0.5883 - accuracy: 0.7346 - val_loss: 0.5787 - val_accuracy: 0.7332\n",
            "Epoch 174/200\n",
            "31/31 [==============================] - 0s 2ms/step - loss: 0.5898 - accuracy: 0.7329 - val_loss: 0.5787 - val_accuracy: 0.7327\n",
            "Epoch 175/200\n",
            "31/31 [==============================] - 0s 2ms/step - loss: 0.5885 - accuracy: 0.7359 - val_loss: 0.5771 - val_accuracy: 0.7384\n",
            "Epoch 176/200\n",
            "31/31 [==============================] - 0s 2ms/step - loss: 0.5877 - accuracy: 0.7362 - val_loss: 0.5818 - val_accuracy: 0.7389\n",
            "Epoch 177/200\n",
            "31/31 [==============================] - 0s 2ms/step - loss: 0.5883 - accuracy: 0.7342 - val_loss: 0.5772 - val_accuracy: 0.7371\n",
            "Epoch 178/200\n",
            "31/31 [==============================] - 0s 2ms/step - loss: 0.5876 - accuracy: 0.7367 - val_loss: 0.5767 - val_accuracy: 0.7386\n",
            "Epoch 179/200\n",
            "31/31 [==============================] - 0s 2ms/step - loss: 0.5877 - accuracy: 0.7366 - val_loss: 0.5768 - val_accuracy: 0.7363\n",
            "Epoch 180/200\n",
            "31/31 [==============================] - 0s 2ms/step - loss: 0.5878 - accuracy: 0.7364 - val_loss: 0.5775 - val_accuracy: 0.7394\n",
            "Epoch 181/200\n",
            "31/31 [==============================] - 0s 2ms/step - loss: 0.5873 - accuracy: 0.7374 - val_loss: 0.5762 - val_accuracy: 0.7379\n",
            "Epoch 182/200\n",
            "31/31 [==============================] - 0s 2ms/step - loss: 0.5877 - accuracy: 0.7379 - val_loss: 0.5761 - val_accuracy: 0.7384\n",
            "Epoch 183/200\n",
            "31/31 [==============================] - 0s 2ms/step - loss: 0.5881 - accuracy: 0.7360 - val_loss: 0.5799 - val_accuracy: 0.7366\n",
            "Epoch 184/200\n",
            "31/31 [==============================] - 0s 2ms/step - loss: 0.5881 - accuracy: 0.7363 - val_loss: 0.5784 - val_accuracy: 0.7319\n",
            "Epoch 185/200\n",
            "31/31 [==============================] - 0s 2ms/step - loss: 0.5877 - accuracy: 0.7348 - val_loss: 0.5757 - val_accuracy: 0.7371\n",
            "Epoch 186/200\n",
            "31/31 [==============================] - 0s 2ms/step - loss: 0.5873 - accuracy: 0.7360 - val_loss: 0.5754 - val_accuracy: 0.7358\n",
            "Epoch 187/200\n",
            "31/31 [==============================] - 0s 2ms/step - loss: 0.5872 - accuracy: 0.7383 - val_loss: 0.5755 - val_accuracy: 0.7394\n",
            "Epoch 188/200\n",
            "31/31 [==============================] - 0s 2ms/step - loss: 0.5866 - accuracy: 0.7384 - val_loss: 0.5753 - val_accuracy: 0.7397\n",
            "Epoch 189/200\n",
            "31/31 [==============================] - 0s 2ms/step - loss: 0.5863 - accuracy: 0.7372 - val_loss: 0.5757 - val_accuracy: 0.7371\n",
            "Epoch 190/200\n",
            "31/31 [==============================] - 0s 2ms/step - loss: 0.5865 - accuracy: 0.7390 - val_loss: 0.5758 - val_accuracy: 0.7353\n",
            "Epoch 191/200\n",
            "31/31 [==============================] - 0s 2ms/step - loss: 0.5862 - accuracy: 0.7351 - val_loss: 0.5772 - val_accuracy: 0.7389\n",
            "Epoch 192/200\n",
            "31/31 [==============================] - 0s 2ms/step - loss: 0.5861 - accuracy: 0.7366 - val_loss: 0.5759 - val_accuracy: 0.7412\n",
            "Epoch 193/200\n",
            "31/31 [==============================] - 0s 2ms/step - loss: 0.5862 - accuracy: 0.7369 - val_loss: 0.5749 - val_accuracy: 0.7371\n",
            "Epoch 194/200\n",
            "31/31 [==============================] - 0s 2ms/step - loss: 0.5859 - accuracy: 0.7364 - val_loss: 0.5765 - val_accuracy: 0.7347\n",
            "Epoch 195/200\n",
            "31/31 [==============================] - 0s 2ms/step - loss: 0.5865 - accuracy: 0.7355 - val_loss: 0.5743 - val_accuracy: 0.7379\n",
            "Epoch 196/200\n",
            "31/31 [==============================] - 0s 2ms/step - loss: 0.5865 - accuracy: 0.7362 - val_loss: 0.5763 - val_accuracy: 0.7345\n",
            "Epoch 197/200\n",
            "31/31 [==============================] - 0s 2ms/step - loss: 0.5867 - accuracy: 0.7347 - val_loss: 0.5764 - val_accuracy: 0.7340\n",
            "Epoch 198/200\n",
            "31/31 [==============================] - 0s 3ms/step - loss: 0.5863 - accuracy: 0.7378 - val_loss: 0.5739 - val_accuracy: 0.7402\n",
            "Epoch 199/200\n",
            "31/31 [==============================] - 0s 2ms/step - loss: 0.5853 - accuracy: 0.7378 - val_loss: 0.5756 - val_accuracy: 0.7397\n",
            "Epoch 200/200\n",
            "31/31 [==============================] - 0s 2ms/step - loss: 0.5856 - accuracy: 0.7362 - val_loss: 0.5744 - val_accuracy: 0.7358\n"
          ]
        },
        {
          "output_type": "execute_result",
          "data": {
            "text/plain": [
              "<keras.callbacks.History at 0x7fba30a988e0>"
            ]
          },
          "metadata": {},
          "execution_count": 91
        }
      ]
    },
    {
      "cell_type": "code",
      "source": [
        "y_pred_train = ann.predict(X_train)\n",
        "y_pred_test = ann.predict(X_test)"
      ],
      "metadata": {
        "colab": {
          "base_uri": "https://localhost:8080/"
        },
        "id": "jPiA5nsfjr9W",
        "outputId": "f0156724-d012-4036-8804-0dbec79712ec"
      },
      "execution_count": 92,
      "outputs": [
        {
          "output_type": "stream",
          "name": "stdout",
          "text": [
            "482/482 [==============================] - 0s 732us/step\n",
            "121/121 [==============================] - 0s 779us/step\n"
          ]
        }
      ]
    },
    {
      "cell_type": "code",
      "source": [
        "for i in range(len(y_pred_test)):\n",
        "  index = list(y_pred_test[i]).index(max(y_pred_test[i]))\n",
        "  for j in range(len(y_pred_test[i])):\n",
        "    y_pred_test[i][j]=0\n",
        "  y_pred_test[i][index]=1\n",
        "\n",
        "for i in range(len(y_pred_train)):\n",
        "  index = list(y_pred_train[i]).index(max(y_pred_train[i]))\n",
        "  for j in range(len(y_pred_train[i])):\n",
        "    y_pred_train[i][j]=0\n",
        "  y_pred_train[i][index]=1"
      ],
      "metadata": {
        "id": "A6-UjyFljuu0"
      },
      "execution_count": 93,
      "outputs": []
    },
    {
      "cell_type": "code",
      "source": [
        "y_pred_train"
      ],
      "metadata": {
        "colab": {
          "base_uri": "https://localhost:8080/"
        },
        "id": "elqaPTtvjw_y",
        "outputId": "4287aa86-4da1-4674-d342-23d443393b5e"
      },
      "execution_count": 94,
      "outputs": [
        {
          "output_type": "execute_result",
          "data": {
            "text/plain": [
              "array([[1., 0., 0.],\n",
              "       [1., 0., 0.],\n",
              "       [1., 0., 0.],\n",
              "       ...,\n",
              "       [1., 0., 0.],\n",
              "       [1., 0., 0.],\n",
              "       [0., 1., 0.]], dtype=float32)"
            ]
          },
          "metadata": {},
          "execution_count": 94
        }
      ]
    },
    {
      "cell_type": "code",
      "source": [
        "y_train"
      ],
      "metadata": {
        "colab": {
          "base_uri": "https://localhost:8080/",
          "height": 423
        },
        "id": "ZBQ-Dd7Ujz0K",
        "outputId": "2d17e243-69ab-49fe-9238-c99faec7d061"
      },
      "execution_count": 95,
      "outputs": [
        {
          "output_type": "execute_result",
          "data": {
            "text/plain": [
              "       0  1  2\n",
              "639    1  0  0\n",
              "14430  1  0  0\n",
              "12412  1  0  0\n",
              "3791   0  0  1\n",
              "16538  0  1  0\n",
              "...   .. .. ..\n",
              "16968  0  1  0\n",
              "3790   1  0  0\n",
              "8465   1  0  0\n",
              "12097  0  0  1\n",
              "17335  0  1  0\n",
              "\n",
              "[15393 rows x 3 columns]"
            ],
            "text/html": [
              "\n",
              "  <div id=\"df-a1415485-a7eb-48eb-b5dd-e143d2361d68\">\n",
              "    <div class=\"colab-df-container\">\n",
              "      <div>\n",
              "<style scoped>\n",
              "    .dataframe tbody tr th:only-of-type {\n",
              "        vertical-align: middle;\n",
              "    }\n",
              "\n",
              "    .dataframe tbody tr th {\n",
              "        vertical-align: top;\n",
              "    }\n",
              "\n",
              "    .dataframe thead th {\n",
              "        text-align: right;\n",
              "    }\n",
              "</style>\n",
              "<table border=\"1\" class=\"dataframe\">\n",
              "  <thead>\n",
              "    <tr style=\"text-align: right;\">\n",
              "      <th></th>\n",
              "      <th>0</th>\n",
              "      <th>1</th>\n",
              "      <th>2</th>\n",
              "    </tr>\n",
              "  </thead>\n",
              "  <tbody>\n",
              "    <tr>\n",
              "      <th>639</th>\n",
              "      <td>1</td>\n",
              "      <td>0</td>\n",
              "      <td>0</td>\n",
              "    </tr>\n",
              "    <tr>\n",
              "      <th>14430</th>\n",
              "      <td>1</td>\n",
              "      <td>0</td>\n",
              "      <td>0</td>\n",
              "    </tr>\n",
              "    <tr>\n",
              "      <th>12412</th>\n",
              "      <td>1</td>\n",
              "      <td>0</td>\n",
              "      <td>0</td>\n",
              "    </tr>\n",
              "    <tr>\n",
              "      <th>3791</th>\n",
              "      <td>0</td>\n",
              "      <td>0</td>\n",
              "      <td>1</td>\n",
              "    </tr>\n",
              "    <tr>\n",
              "      <th>16538</th>\n",
              "      <td>0</td>\n",
              "      <td>1</td>\n",
              "      <td>0</td>\n",
              "    </tr>\n",
              "    <tr>\n",
              "      <th>...</th>\n",
              "      <td>...</td>\n",
              "      <td>...</td>\n",
              "      <td>...</td>\n",
              "    </tr>\n",
              "    <tr>\n",
              "      <th>16968</th>\n",
              "      <td>0</td>\n",
              "      <td>1</td>\n",
              "      <td>0</td>\n",
              "    </tr>\n",
              "    <tr>\n",
              "      <th>3790</th>\n",
              "      <td>1</td>\n",
              "      <td>0</td>\n",
              "      <td>0</td>\n",
              "    </tr>\n",
              "    <tr>\n",
              "      <th>8465</th>\n",
              "      <td>1</td>\n",
              "      <td>0</td>\n",
              "      <td>0</td>\n",
              "    </tr>\n",
              "    <tr>\n",
              "      <th>12097</th>\n",
              "      <td>0</td>\n",
              "      <td>0</td>\n",
              "      <td>1</td>\n",
              "    </tr>\n",
              "    <tr>\n",
              "      <th>17335</th>\n",
              "      <td>0</td>\n",
              "      <td>1</td>\n",
              "      <td>0</td>\n",
              "    </tr>\n",
              "  </tbody>\n",
              "</table>\n",
              "<p>15393 rows × 3 columns</p>\n",
              "</div>\n",
              "      <button class=\"colab-df-convert\" onclick=\"convertToInteractive('df-a1415485-a7eb-48eb-b5dd-e143d2361d68')\"\n",
              "              title=\"Convert this dataframe to an interactive table.\"\n",
              "              style=\"display:none;\">\n",
              "        \n",
              "  <svg xmlns=\"http://www.w3.org/2000/svg\" height=\"24px\"viewBox=\"0 0 24 24\"\n",
              "       width=\"24px\">\n",
              "    <path d=\"M0 0h24v24H0V0z\" fill=\"none\"/>\n",
              "    <path d=\"M18.56 5.44l.94 2.06.94-2.06 2.06-.94-2.06-.94-.94-2.06-.94 2.06-2.06.94zm-11 1L8.5 8.5l.94-2.06 2.06-.94-2.06-.94L8.5 2.5l-.94 2.06-2.06.94zm10 10l.94 2.06.94-2.06 2.06-.94-2.06-.94-.94-2.06-.94 2.06-2.06.94z\"/><path d=\"M17.41 7.96l-1.37-1.37c-.4-.4-.92-.59-1.43-.59-.52 0-1.04.2-1.43.59L10.3 9.45l-7.72 7.72c-.78.78-.78 2.05 0 2.83L4 21.41c.39.39.9.59 1.41.59.51 0 1.02-.2 1.41-.59l7.78-7.78 2.81-2.81c.8-.78.8-2.07 0-2.86zM5.41 20L4 18.59l7.72-7.72 1.47 1.35L5.41 20z\"/>\n",
              "  </svg>\n",
              "      </button>\n",
              "      \n",
              "  <style>\n",
              "    .colab-df-container {\n",
              "      display:flex;\n",
              "      flex-wrap:wrap;\n",
              "      gap: 12px;\n",
              "    }\n",
              "\n",
              "    .colab-df-convert {\n",
              "      background-color: #E8F0FE;\n",
              "      border: none;\n",
              "      border-radius: 50%;\n",
              "      cursor: pointer;\n",
              "      display: none;\n",
              "      fill: #1967D2;\n",
              "      height: 32px;\n",
              "      padding: 0 0 0 0;\n",
              "      width: 32px;\n",
              "    }\n",
              "\n",
              "    .colab-df-convert:hover {\n",
              "      background-color: #E2EBFA;\n",
              "      box-shadow: 0px 1px 2px rgba(60, 64, 67, 0.3), 0px 1px 3px 1px rgba(60, 64, 67, 0.15);\n",
              "      fill: #174EA6;\n",
              "    }\n",
              "\n",
              "    [theme=dark] .colab-df-convert {\n",
              "      background-color: #3B4455;\n",
              "      fill: #D2E3FC;\n",
              "    }\n",
              "\n",
              "    [theme=dark] .colab-df-convert:hover {\n",
              "      background-color: #434B5C;\n",
              "      box-shadow: 0px 1px 3px 1px rgba(0, 0, 0, 0.15);\n",
              "      filter: drop-shadow(0px 1px 2px rgba(0, 0, 0, 0.3));\n",
              "      fill: #FFFFFF;\n",
              "    }\n",
              "  </style>\n",
              "\n",
              "      <script>\n",
              "        const buttonEl =\n",
              "          document.querySelector('#df-a1415485-a7eb-48eb-b5dd-e143d2361d68 button.colab-df-convert');\n",
              "        buttonEl.style.display =\n",
              "          google.colab.kernel.accessAllowed ? 'block' : 'none';\n",
              "\n",
              "        async function convertToInteractive(key) {\n",
              "          const element = document.querySelector('#df-a1415485-a7eb-48eb-b5dd-e143d2361d68');\n",
              "          const dataTable =\n",
              "            await google.colab.kernel.invokeFunction('convertToInteractive',\n",
              "                                                     [key], {});\n",
              "          if (!dataTable) return;\n",
              "\n",
              "          const docLinkHtml = 'Like what you see? Visit the ' +\n",
              "            '<a target=\"_blank\" href=https://colab.research.google.com/notebooks/data_table.ipynb>data table notebook</a>'\n",
              "            + ' to learn more about interactive tables.';\n",
              "          element.innerHTML = '';\n",
              "          dataTable['output_type'] = 'display_data';\n",
              "          await google.colab.output.renderOutput(dataTable, element);\n",
              "          const docLink = document.createElement('div');\n",
              "          docLink.innerHTML = docLinkHtml;\n",
              "          element.appendChild(docLink);\n",
              "        }\n",
              "      </script>\n",
              "    </div>\n",
              "  </div>\n",
              "  "
            ]
          },
          "metadata": {},
          "execution_count": 95
        }
      ]
    },
    {
      "cell_type": "code",
      "source": [
        "print(classification_report(y_train,y_pred_train))"
      ],
      "metadata": {
        "colab": {
          "base_uri": "https://localhost:8080/"
        },
        "id": "wlgZVuqMj2PH",
        "outputId": "c44ae748-75b6-4589-b57c-4b6a045d105a"
      },
      "execution_count": 96,
      "outputs": [
        {
          "output_type": "stream",
          "name": "stdout",
          "text": [
            "              precision    recall  f1-score   support\n",
            "\n",
            "           0       0.85      0.84      0.84      5143\n",
            "           1       0.71      0.85      0.77      5121\n",
            "           2       0.64      0.52      0.58      5129\n",
            "\n",
            "   micro avg       0.74      0.74      0.74     15393\n",
            "   macro avg       0.73      0.74      0.73     15393\n",
            "weighted avg       0.73      0.74      0.73     15393\n",
            " samples avg       0.74      0.74      0.74     15393\n",
            "\n"
          ]
        }
      ]
    },
    {
      "cell_type": "code",
      "source": [
        "print(classification_report(y_test,y_pred_test))"
      ],
      "metadata": {
        "colab": {
          "base_uri": "https://localhost:8080/"
        },
        "id": "XEw8pipOj4Ys",
        "outputId": "dc3a0647-26d3-4af6-893a-02f067133844"
      },
      "execution_count": 97,
      "outputs": [
        {
          "output_type": "stream",
          "name": "stdout",
          "text": [
            "              precision    recall  f1-score   support\n",
            "\n",
            "           0       0.83      0.83      0.83      1271\n",
            "           1       0.72      0.86      0.79      1293\n",
            "           2       0.64      0.52      0.57      1285\n",
            "\n",
            "   micro avg       0.74      0.74      0.74      3849\n",
            "   macro avg       0.73      0.74      0.73      3849\n",
            "weighted avg       0.73      0.74      0.73      3849\n",
            " samples avg       0.74      0.74      0.74      3849\n",
            "\n"
          ]
        }
      ]
    },
    {
      "cell_type": "code",
      "source": [
        "sns.set(style='whitegrid',font_scale=1)\n",
        "plt.figure(figsize=(20,20))\n",
        "plt.title('Pearson')\n",
        "sns.heatmap(df.corr(),vmax=0.8,annot=True,cmap='GnBu')"
      ],
      "metadata": {
        "colab": {
          "base_uri": "https://localhost:8080/",
          "height": 1000
        },
        "id": "mDjoj7RkmQ0A",
        "outputId": "2e1d6776-6ee2-435e-c1fc-85979c503e1f"
      },
      "execution_count": 98,
      "outputs": [
        {
          "output_type": "execute_result",
          "data": {
            "text/plain": [
              "<matplotlib.axes._subplots.AxesSubplot at 0x7fba30b710a0>"
            ]
          },
          "metadata": {},
          "execution_count": 98
        },
        {
          "output_type": "display_data",
          "data": {
            "text/plain": [
              "<Figure size 1440x1440 with 2 Axes>"
            ],
            "image/png": "[encoded data removed]"
          },
          "metadata": {}
        }
      ]
    }
  ]
}